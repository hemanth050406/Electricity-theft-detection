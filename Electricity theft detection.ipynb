{
 "cells": [
  {
   "cell_type": "markdown",
   "id": "adec1a9a-595b-4b58-bdf2-b57f22336fbb",
   "metadata": {},
   "source": [
    "# Business Problem\n",
    "***\n",
    "\n",
    "### Electricity Theft Detection\n",
    "\n",
    "- A machine learning pipeline to predict electricity theft using consumption patterns, voltage data, and customer attributes.\n",
    "\n",
    "### Key Features\n",
    "\n",
    "- **Data Preprocessing :** feature engineering, and scaling.\n",
    "  \n",
    "- **Model Training :** Includes `LinearRegression`, `SVM`, `KNN`, `DecisionTree`, `RandomForest`, `AdaBoost`, `GradientBoost` and `XGBoost` with `hyperparameter tuning`."
   ]
  },
  {
   "cell_type": "markdown",
   "id": "8c35451b-12ef-4f91-a67e-3ac6607526f4",
   "metadata": {},
   "source": [
    "# Import Libraries\n",
    "***"
   ]
  },
  {
   "cell_type": "markdown",
   "id": "c5bd84e9-f178-4d31-98c3-f7d35023656c",
   "metadata": {},
   "source": [
    "- **Data Handling**"
   ]
  },
  {
   "cell_type": "code",
   "execution_count": 1,
   "id": "8d8ec678-56b4-4a1c-a5df-5f66ca0f1fbc",
   "metadata": {},
   "outputs": [],
   "source": [
    "import pandas as pd\n",
    "import numpy as np"
   ]
  },
  {
   "cell_type": "markdown",
   "id": "667123ea-5d4a-40b7-8e78-4af8645bba5a",
   "metadata": {},
   "source": [
    "- **Visualization**"
   ]
  },
  {
   "cell_type": "code",
   "execution_count": 2,
   "id": "02c96446-c213-44d0-9416-0fe23bcedecd",
   "metadata": {},
   "outputs": [],
   "source": [
    "import matplotlib.pyplot as plt\n",
    "import seaborn as sns"
   ]
  },
  {
   "cell_type": "markdown",
   "id": "54e5aff7-044a-45f8-8bc7-c0a7b6d3615f",
   "metadata": {},
   "source": [
    "- **Warnings Handling**"
   ]
  },
  {
   "cell_type": "code",
   "execution_count": 3,
   "id": "cd1ba437-7264-4b98-a1a3-654bfd909bbb",
   "metadata": {},
   "outputs": [],
   "source": [
    "import warnings\n",
    "warnings.filterwarnings('ignore')"
   ]
  },
  {
   "cell_type": "markdown",
   "id": "a1834b02-04db-42b7-8395-f64c45530358",
   "metadata": {},
   "source": [
    "# Data Loading\n",
    "***"
   ]
  },
  {
   "cell_type": "code",
   "execution_count": 4,
   "id": "7cc244e4-ed36-417b-8c08-d2e29acd7741",
   "metadata": {},
   "outputs": [],
   "source": [
    "df = pd.read_csv('electricity_theft_dataset.csv')"
   ]
  },
  {
   "cell_type": "markdown",
   "id": "a85fb746-5186-43c8-9286-a6f5276d5718",
   "metadata": {},
   "source": [
    "- Reading CSV file of electricity_theft_dataset"
   ]
  },
  {
   "cell_type": "code",
   "execution_count": 5,
   "id": "c392dfc3-440c-4eca-970d-97a7ec250d79",
   "metadata": {},
   "outputs": [],
   "source": [
    "pd.set_option('display.max_columns', None)"
   ]
  },
  {
   "cell_type": "markdown",
   "id": "8f3b23b7-a0a4-44bf-ab47-692d065eb252",
   "metadata": {},
   "source": [
    "- To read all colimns"
   ]
  },
  {
   "cell_type": "markdown",
   "id": "11052199-b48a-431c-9efe-b64871992e86",
   "metadata": {},
   "source": [
    "# Data preprocessing\n",
    "***"
   ]
  },
  {
   "cell_type": "markdown",
   "id": "5ae8ba29-4eab-4b5e-a893-5fa3a0af3a02",
   "metadata": {},
   "source": [
    "### Data Exploration"
   ]
  },
  {
   "cell_type": "code",
   "execution_count": 6,
   "id": "4ee5107a-abd1-451a-a6ae-8a670322d5b4",
   "metadata": {},
   "outputs": [
    {
     "name": "stdout",
     "output_type": "stream",
     "text": [
      "\n",
      "First 5 rows:\n"
     ]
    },
    {
     "data": {
      "text/html": [
       "<div>\n",
       "<style scoped>\n",
       "    .dataframe tbody tr th:only-of-type {\n",
       "        vertical-align: middle;\n",
       "    }\n",
       "\n",
       "    .dataframe tbody tr th {\n",
       "        vertical-align: top;\n",
       "    }\n",
       "\n",
       "    .dataframe thead th {\n",
       "        text-align: right;\n",
       "    }\n",
       "</style>\n",
       "<table border=\"1\" class=\"dataframe\">\n",
       "  <thead>\n",
       "    <tr style=\"text-align: right;\">\n",
       "      <th></th>\n",
       "      <th>customer_id</th>\n",
       "      <th>month</th>\n",
       "      <th>billed_consumption</th>\n",
       "      <th>actual_consumption</th>\n",
       "      <th>average_voltage</th>\n",
       "      <th>peak_usage_time</th>\n",
       "      <th>peak_time_consumption</th>\n",
       "      <th>off_peak_consumption</th>\n",
       "      <th>power_factor</th>\n",
       "      <th>payment_history</th>\n",
       "      <th>num_outages</th>\n",
       "      <th>customer_type</th>\n",
       "      <th>location</th>\n",
       "      <th>theft_detected</th>\n",
       "    </tr>\n",
       "  </thead>\n",
       "  <tbody>\n",
       "    <tr>\n",
       "      <th>0</th>\n",
       "      <td>1001</td>\n",
       "      <td>2024-04</td>\n",
       "      <td>524</td>\n",
       "      <td>903.59</td>\n",
       "      <td>183.11</td>\n",
       "      <td>22:09</td>\n",
       "      <td>452.24</td>\n",
       "      <td>451.35</td>\n",
       "      <td>0.98</td>\n",
       "      <td>Good</td>\n",
       "      <td>2</td>\n",
       "      <td>Residential</td>\n",
       "      <td>urban</td>\n",
       "      <td>1</td>\n",
       "    </tr>\n",
       "    <tr>\n",
       "      <th>1</th>\n",
       "      <td>1002</td>\n",
       "      <td>2024-05</td>\n",
       "      <td>261</td>\n",
       "      <td>265.29</td>\n",
       "      <td>211.88</td>\n",
       "      <td>10:36</td>\n",
       "      <td>79.04</td>\n",
       "      <td>186.25</td>\n",
       "      <td>0.94</td>\n",
       "      <td>Good</td>\n",
       "      <td>0</td>\n",
       "      <td>Industrial</td>\n",
       "      <td>suburban</td>\n",
       "      <td>0</td>\n",
       "    </tr>\n",
       "    <tr>\n",
       "      <th>2</th>\n",
       "      <td>1003</td>\n",
       "      <td>2024-05</td>\n",
       "      <td>434</td>\n",
       "      <td>443.71</td>\n",
       "      <td>207.57</td>\n",
       "      <td>16:49</td>\n",
       "      <td>187.58</td>\n",
       "      <td>256.12</td>\n",
       "      <td>1.11</td>\n",
       "      <td>Good</td>\n",
       "      <td>3</td>\n",
       "      <td>Commercial</td>\n",
       "      <td>rural</td>\n",
       "      <td>0</td>\n",
       "    </tr>\n",
       "    <tr>\n",
       "      <th>3</th>\n",
       "      <td>1004</td>\n",
       "      <td>2024-09</td>\n",
       "      <td>546</td>\n",
       "      <td>889.49</td>\n",
       "      <td>228.48</td>\n",
       "      <td>19:46</td>\n",
       "      <td>374.34</td>\n",
       "      <td>515.15</td>\n",
       "      <td>0.89</td>\n",
       "      <td>Poor</td>\n",
       "      <td>1</td>\n",
       "      <td>Industrial</td>\n",
       "      <td>suburban</td>\n",
       "      <td>1</td>\n",
       "    </tr>\n",
       "    <tr>\n",
       "      <th>4</th>\n",
       "      <td>1005</td>\n",
       "      <td>2024-11</td>\n",
       "      <td>246</td>\n",
       "      <td>336.29</td>\n",
       "      <td>264.81</td>\n",
       "      <td>16:43</td>\n",
       "      <td>150.24</td>\n",
       "      <td>186.05</td>\n",
       "      <td>1.15</td>\n",
       "      <td>Poor</td>\n",
       "      <td>5</td>\n",
       "      <td>Commercial</td>\n",
       "      <td>suburban</td>\n",
       "      <td>1</td>\n",
       "    </tr>\n",
       "  </tbody>\n",
       "</table>\n",
       "</div>"
      ],
      "text/plain": [
       "   customer_id    month  billed_consumption  actual_consumption  \\\n",
       "0         1001  2024-04                 524              903.59   \n",
       "1         1002  2024-05                 261              265.29   \n",
       "2         1003  2024-05                 434              443.71   \n",
       "3         1004  2024-09                 546              889.49   \n",
       "4         1005  2024-11                 246              336.29   \n",
       "\n",
       "   average_voltage peak_usage_time  peak_time_consumption  \\\n",
       "0           183.11           22:09                 452.24   \n",
       "1           211.88           10:36                  79.04   \n",
       "2           207.57           16:49                 187.58   \n",
       "3           228.48           19:46                 374.34   \n",
       "4           264.81           16:43                 150.24   \n",
       "\n",
       "   off_peak_consumption  power_factor payment_history  num_outages  \\\n",
       "0                451.35          0.98            Good            2   \n",
       "1                186.25          0.94            Good            0   \n",
       "2                256.12          1.11            Good            3   \n",
       "3                515.15          0.89            Poor            1   \n",
       "4                186.05          1.15            Poor            5   \n",
       "\n",
       "  customer_type  location  theft_detected  \n",
       "0   Residential     urban               1  \n",
       "1    Industrial  suburban               0  \n",
       "2    Commercial     rural               0  \n",
       "3    Industrial  suburban               1  \n",
       "4    Commercial  suburban               1  "
      ]
     },
     "metadata": {},
     "output_type": "display_data"
    }
   ],
   "source": [
    "print(\"\\nFirst 5 rows:\")\n",
    "display(df.head())"
   ]
  },
  {
   "cell_type": "markdown",
   "id": "a4ec15d5-8317-478a-9994-164f116e1fca",
   "metadata": {},
   "source": [
    "- To read first 5 rows"
   ]
  },
  {
   "cell_type": "code",
   "execution_count": 7,
   "id": "4be77686-ed17-4a51-8ca6-bb2bab51948a",
   "metadata": {},
   "outputs": [
    {
     "name": "stdout",
     "output_type": "stream",
     "text": [
      "Dataset shape: (100000, 14)\n"
     ]
    }
   ],
   "source": [
    "print(\"Dataset shape:\", df.shape)"
   ]
  },
  {
   "cell_type": "markdown",
   "id": "b0fbc4b4-191a-47ac-9b10-70f94a884094",
   "metadata": {},
   "source": [
    "- Shape of the dataset having **100000 Rows and 14 Columns**"
   ]
  },
  {
   "cell_type": "markdown",
   "id": "6f4b290f-f94e-48f4-9005-43a03024e6d5",
   "metadata": {},
   "source": [
    "### Check for missing values\n",
    "- to identify missing(null) values"
   ]
  },
  {
   "cell_type": "code",
   "execution_count": 8,
   "id": "f594588f-6fbf-4101-bc70-30a7b68a8d49",
   "metadata": {},
   "outputs": [
    {
     "name": "stdout",
     "output_type": "stream",
     "text": [
      "\n",
      "Missing values per column:\n",
      "customer_id              0\n",
      "month                    0\n",
      "billed_consumption       0\n",
      "actual_consumption       0\n",
      "average_voltage          0\n",
      "peak_usage_time          0\n",
      "peak_time_consumption    0\n",
      "off_peak_consumption     0\n",
      "power_factor             0\n",
      "payment_history          0\n",
      "num_outages              0\n",
      "customer_type            0\n",
      "location                 0\n",
      "theft_detected           0\n",
      "dtype: int64\n"
     ]
    }
   ],
   "source": [
    "print(\"\\nMissing values per column:\")\n",
    "print(df.isnull().sum())"
   ]
  },
  {
   "cell_type": "markdown",
   "id": "2c68cbc5-5785-4f43-a3e5-67c6e7b14c91",
   "metadata": {},
   "source": [
    "- No missing values are there in this dataset"
   ]
  },
  {
   "cell_type": "markdown",
   "id": "a6606142-b9c9-46ef-8268-a20933434f97",
   "metadata": {},
   "source": [
    "### check for duplicate\n",
    "- to check if there are any duplicate row in the dataset"
   ]
  },
  {
   "cell_type": "code",
   "execution_count": 9,
   "id": "600a081a-3a3a-4a2a-b4e1-2491af0533e0",
   "metadata": {},
   "outputs": [
    {
     "data": {
      "text/plain": [
       "np.int64(0)"
      ]
     },
     "execution_count": 9,
     "metadata": {},
     "output_type": "execute_result"
    }
   ],
   "source": [
    "df.duplicated().sum()"
   ]
  },
  {
   "cell_type": "markdown",
   "id": "77720dea-7174-475d-9218-b6a8827816b1",
   "metadata": {},
   "source": [
    "- No duplicates in this dataset"
   ]
  },
  {
   "cell_type": "code",
   "execution_count": 10,
   "id": "3f47e2de-d777-4768-8823-180f44bf4394",
   "metadata": {},
   "outputs": [
    {
     "name": "stdout",
     "output_type": "stream",
     "text": [
      "<class 'pandas.core.frame.DataFrame'>\n",
      "RangeIndex: 100000 entries, 0 to 99999\n",
      "Data columns (total 14 columns):\n",
      " #   Column                 Non-Null Count   Dtype  \n",
      "---  ------                 --------------   -----  \n",
      " 0   customer_id            100000 non-null  int64  \n",
      " 1   month                  100000 non-null  object \n",
      " 2   billed_consumption     100000 non-null  int64  \n",
      " 3   actual_consumption     100000 non-null  float64\n",
      " 4   average_voltage        100000 non-null  float64\n",
      " 5   peak_usage_time        100000 non-null  object \n",
      " 6   peak_time_consumption  100000 non-null  float64\n",
      " 7   off_peak_consumption   100000 non-null  float64\n",
      " 8   power_factor           100000 non-null  float64\n",
      " 9   payment_history        100000 non-null  object \n",
      " 10  num_outages            100000 non-null  int64  \n",
      " 11  customer_type          100000 non-null  object \n",
      " 12  location               100000 non-null  object \n",
      " 13  theft_detected         100000 non-null  int64  \n",
      "dtypes: float64(5), int64(4), object(5)\n",
      "memory usage: 10.7+ MB\n"
     ]
    }
   ],
   "source": [
    "df.info()"
   ]
  },
  {
   "cell_type": "markdown",
   "id": "3588cf27-0fed-4846-9144-715bf20be95d",
   "metadata": {},
   "source": [
    "### Dataset information\n",
    "- **100000 rows** with **14 columns**.\n",
    "  \n",
    "- The columns has no missing values(already we seen this one).\n",
    "\n",
    "- All the data types are correct except date-time.\n",
    "\n",
    "- Mixed data types: **categorical** (object), **numerical** (int/float) and we want to convert some column to **date-time** also."
   ]
  },
  {
   "cell_type": "markdown",
   "id": "6dab4918-e573-401c-8291-9cc795522d66",
   "metadata": {},
   "source": [
    "### Check the column names"
   ]
  },
  {
   "cell_type": "code",
   "execution_count": 11,
   "id": "b503978e-8fff-40dd-a8fd-cfa9b9b50636",
   "metadata": {},
   "outputs": [
    {
     "data": {
      "text/plain": [
       "Index(['customer_id', 'month', 'billed_consumption', 'actual_consumption',\n",
       "       'average_voltage', 'peak_usage_time', 'peak_time_consumption',\n",
       "       'off_peak_consumption', 'power_factor', 'payment_history',\n",
       "       'num_outages', 'customer_type', 'location', 'theft_detected'],\n",
       "      dtype='object')"
      ]
     },
     "execution_count": 11,
     "metadata": {},
     "output_type": "execute_result"
    }
   ],
   "source": [
    "df.columns"
   ]
  },
  {
   "cell_type": "markdown",
   "id": "625cd64b-4c3f-4766-82c1-c704d2a013b7",
   "metadata": {},
   "source": [
    "- all columns are in perfect way"
   ]
  },
  {
   "cell_type": "markdown",
   "id": "5a6865bc-29a4-4b0a-bb17-7066e7577bf5",
   "metadata": {},
   "source": [
    "### checking the all columns unique values"
   ]
  },
  {
   "cell_type": "code",
   "execution_count": 12,
   "id": "226e9d00-8514-4988-b706-15dac5c16452",
   "metadata": {},
   "outputs": [
    {
     "data": {
      "text/plain": [
       "100000"
      ]
     },
     "execution_count": 12,
     "metadata": {},
     "output_type": "execute_result"
    }
   ],
   "source": [
    "df['customer_id'].nunique() # Drop"
   ]
  },
  {
   "cell_type": "markdown",
   "id": "40aa25d4-03c3-4d79-9e72-4c690eec5ca0",
   "metadata": {},
   "source": [
    "- In this feature all are unique, there is no use, **Drop this feature**"
   ]
  },
  {
   "cell_type": "code",
   "execution_count": 13,
   "id": "fc5a13bc-cb7a-43a9-891b-ead3ebba5c3d",
   "metadata": {},
   "outputs": [
    {
     "data": {
      "text/plain": [
       "array(['2024-04', '2024-05', '2024-09', '2024-11', '2024-02', '2024-08',\n",
       "       '2024-03', '2024-06', '2024-01', '2024-07', '2024-12', '2024-10'],\n",
       "      dtype=object)"
      ]
     },
     "execution_count": 13,
     "metadata": {},
     "output_type": "execute_result"
    }
   ],
   "source": [
    "df['month'].unique()"
   ]
  },
  {
   "cell_type": "markdown",
   "id": "2185585c-4d1e-4faa-b275-6ab16ce198d1",
   "metadata": {},
   "source": [
    "- want to convert into datetime"
   ]
  },
  {
   "cell_type": "code",
   "execution_count": 14,
   "id": "a35b19f3-c3b2-4273-a945-4df8ab664c0f",
   "metadata": {
    "scrolled": true
   },
   "outputs": [
    {
     "data": {
      "text/plain": [
       "array([524, 261, 434, 546, 246, 381, 402, 562, 302, 309, 284, 354, 173,\n",
       "       391, 159, 205, 482, 174, 369, 559, 339, 330, 301, 406, 582, 311,\n",
       "       483, 395, 312, 575, 515, 472, 233, 510, 160, 271, 251, 235, 240,\n",
       "       183, 512, 348, 465, 418, 199, 554, 415, 243, 591, 548, 161, 198,\n",
       "       281, 297, 469, 409, 193, 288, 201, 531, 292, 299, 536, 572, 158,\n",
       "       252, 399, 293, 264, 426, 227, 197, 286, 226, 195, 294, 150, 356,\n",
       "       340, 383, 317, 241, 454, 446, 319, 361, 266, 203, 344, 295, 496,\n",
       "       310, 595, 435, 155, 499, 290, 282, 400, 441, 329, 567, 213, 467,\n",
       "       332, 389, 419, 228, 250, 516, 326, 450, 522, 520, 269, 156, 534,\n",
       "       502, 574, 212, 181, 291, 285, 163, 491, 384, 568, 466, 207, 376,\n",
       "       333, 184, 347, 289, 573, 323, 315, 497, 593, 424, 448, 370, 325,\n",
       "       176, 165, 556, 342, 565, 408, 254, 373, 508, 365, 378, 192, 473,\n",
       "       349, 152, 504, 460, 581, 420, 403, 172, 280, 208, 279, 357, 558,\n",
       "       209, 188, 336, 585, 551, 555, 489, 346, 225, 447, 407, 553, 432,\n",
       "       216, 476, 343, 377, 509, 597, 475, 528, 396, 367, 157, 368, 352,\n",
       "       453, 410, 219, 411, 540, 545, 456, 345, 468, 507, 576, 247, 204,\n",
       "       379, 431, 537, 523, 596, 275, 351, 587, 560, 276, 382, 244, 270,\n",
       "       458, 237, 457, 544, 526, 220, 414, 260, 594, 571, 500, 387, 287,\n",
       "       484, 267, 541, 547, 498, 151, 215, 296, 390, 298, 578, 214, 166,\n",
       "       417, 258, 550, 427, 477, 552, 322, 321, 459, 314, 488, 385, 563,\n",
       "       519, 566, 263, 486, 449, 586, 442, 583, 200, 259, 196, 218, 421,\n",
       "       478, 211, 599, 584, 318, 253, 283, 327, 386, 180, 308, 234, 194,\n",
       "       154, 588, 506, 487, 501, 262, 397, 380, 182, 230, 217, 268, 589,\n",
       "       242, 232, 272, 171, 313, 274, 481, 169, 335, 255, 334, 495, 517,\n",
       "       433, 533, 186, 539, 162, 561, 455, 257, 273, 429, 549, 170, 423,\n",
       "       189, 337, 350, 525, 564, 557, 462, 470, 529, 278, 513, 492, 303,\n",
       "       304, 359, 394, 494, 521, 538, 224, 331, 375, 164, 355, 485, 569,\n",
       "       413, 300, 338, 445, 436, 600, 236, 185, 256, 444, 474, 167, 190,\n",
       "       324, 320, 592, 238, 248, 393, 425, 527, 374, 461, 178, 239, 532,\n",
       "       305, 177, 223, 493, 443, 416, 480, 245, 570, 440, 249, 221, 364,\n",
       "       231, 451, 366, 328, 505, 360, 306, 392, 222, 437, 202, 577, 341,\n",
       "       404, 206, 358, 490, 210, 422, 503, 580, 388, 316, 428, 530, 371,\n",
       "       401, 372, 362, 353, 168, 464, 398, 307, 452, 430, 542, 405, 191,\n",
       "       438, 579, 463, 363, 175, 439, 412, 229, 153, 543, 598, 179, 511,\n",
       "       535, 514, 265, 479, 187, 471, 277, 590, 518])"
      ]
     },
     "execution_count": 14,
     "metadata": {},
     "output_type": "execute_result"
    }
   ],
   "source": [
    "df['billed_consumption'].unique()"
   ]
  },
  {
   "cell_type": "code",
   "execution_count": 15,
   "id": "123bc38b",
   "metadata": {},
   "outputs": [
    {
     "data": {
      "text/plain": [
       "451"
      ]
     },
     "execution_count": 15,
     "metadata": {},
     "output_type": "execute_result"
    }
   ],
   "source": [
    "df['billed_consumption'].nunique()"
   ]
  },
  {
   "cell_type": "code",
   "execution_count": 16,
   "id": "a49673bc-ed65-4881-a179-c92b90fdedc1",
   "metadata": {},
   "outputs": [
    {
     "data": {
      "text/plain": [
       "array([903.59, 265.29, 443.71, ..., 143.02, 739.75, 658.35])"
      ]
     },
     "execution_count": 16,
     "metadata": {},
     "output_type": "execute_result"
    }
   ],
   "source": [
    "df['actual_consumption'].unique()"
   ]
  },
  {
   "cell_type": "code",
   "execution_count": 17,
   "id": "4eaa035f",
   "metadata": {},
   "outputs": [
    {
     "data": {
      "text/plain": [
       "53412"
      ]
     },
     "execution_count": 17,
     "metadata": {},
     "output_type": "execute_result"
    }
   ],
   "source": [
    "df['actual_consumption'].nunique()"
   ]
  },
  {
   "cell_type": "code",
   "execution_count": 18,
   "id": "647e721f-c1bd-41b3-b663-b82e73241b0a",
   "metadata": {},
   "outputs": [
    {
     "data": {
      "text/plain": [
       "array([183.11, 211.88, 207.57, ..., 266.05, 266.57, 174.54])"
      ]
     },
     "execution_count": 18,
     "metadata": {},
     "output_type": "execute_result"
    }
   ],
   "source": [
    "df['average_voltage'].unique()"
   ]
  },
  {
   "cell_type": "code",
   "execution_count": 19,
   "id": "ff034c61",
   "metadata": {},
   "outputs": [
    {
     "data": {
      "text/plain": [
       "9297"
      ]
     },
     "execution_count": 19,
     "metadata": {},
     "output_type": "execute_result"
    }
   ],
   "source": [
    "df['average_voltage'].nunique()"
   ]
  },
  {
   "cell_type": "code",
   "execution_count": 20,
   "id": "120d0831-55ed-407f-b863-bd12258ecfcf",
   "metadata": {},
   "outputs": [
    {
     "data": {
      "text/plain": [
       "array(['22:09', '10:36', '16:49', ..., '20:11', '17:01', '03:48'],\n",
       "      dtype=object)"
      ]
     },
     "execution_count": 20,
     "metadata": {},
     "output_type": "execute_result"
    }
   ],
   "source": [
    "df['peak_usage_time'].unique()"
   ]
  },
  {
   "cell_type": "code",
   "execution_count": 21,
   "id": "fed345e1",
   "metadata": {},
   "outputs": [
    {
     "data": {
      "text/plain": [
       "1440"
      ]
     },
     "execution_count": 21,
     "metadata": {},
     "output_type": "execute_result"
    }
   ],
   "source": [
    "df['peak_usage_time'].nunique()"
   ]
  },
  {
   "cell_type": "code",
   "execution_count": 22,
   "id": "b8e3e1dd-e6ea-4ac5-a414-f9cfdcfe2ad5",
   "metadata": {},
   "outputs": [
    {
     "data": {
      "text/plain": [
       "array([452.24,  79.04, 187.58, ..., 328.04, 200.34,  71.77])"
      ]
     },
     "execution_count": 22,
     "metadata": {},
     "output_type": "execute_result"
    }
   ],
   "source": [
    "df['peak_time_consumption'].unique()"
   ]
  },
  {
   "cell_type": "code",
   "execution_count": 23,
   "id": "61ed0d01",
   "metadata": {},
   "outputs": [
    {
     "data": {
      "text/plain": [
       "31676"
      ]
     },
     "execution_count": 23,
     "metadata": {},
     "output_type": "execute_result"
    }
   ],
   "source": [
    "df['peak_time_consumption'].nunique()"
   ]
  },
  {
   "cell_type": "code",
   "execution_count": 24,
   "id": "24c22e3a-771d-405f-9f30-6cb9d74b9b77",
   "metadata": {},
   "outputs": [
    {
     "data": {
      "text/plain": [
       "array([451.35, 186.25, 256.12, ..., 110.87,  71.24, 190.98])"
      ]
     },
     "execution_count": 24,
     "metadata": {},
     "output_type": "execute_result"
    }
   ],
   "source": [
    "df['off_peak_consumption'].unique()"
   ]
  },
  {
   "cell_type": "code",
   "execution_count": 25,
   "id": "36d6b3f5",
   "metadata": {},
   "outputs": [
    {
     "data": {
      "text/plain": [
       "40658"
      ]
     },
     "execution_count": 25,
     "metadata": {},
     "output_type": "execute_result"
    }
   ],
   "source": [
    "df['off_peak_consumption'].nunique()"
   ]
  },
  {
   "cell_type": "code",
   "execution_count": 26,
   "id": "b92ea655-c9c3-44a3-a8a1-895a1e46d1c7",
   "metadata": {},
   "outputs": [
    {
     "data": {
      "text/plain": [
       "array([0.98, 0.94, 1.11, 0.89, 1.15, 0.71, 0.87, 0.77, 0.99, 0.81, 0.95,\n",
       "       0.88, 0.93, 0.76, 0.84, 0.86, 1.1 , 0.91, 0.69, 1.  , 0.83, 0.9 ,\n",
       "       0.72, 0.66, 0.73, 0.82, 0.85, 0.74, 1.13, 0.8 , 1.05, 0.7 , 0.79,\n",
       "       0.97, 1.01, 1.09, 1.04, 0.75, 1.02, 1.12, 0.92, 0.68, 0.96, 1.03,\n",
       "       1.08, 0.78, 1.16, 1.17, 0.67, 1.07, 0.65, 1.06, 1.14, 1.18, 1.19,\n",
       "       0.64, 1.2 ])"
      ]
     },
     "execution_count": 26,
     "metadata": {},
     "output_type": "execute_result"
    }
   ],
   "source": [
    "df['power_factor'].unique()"
   ]
  },
  {
   "cell_type": "code",
   "execution_count": 27,
   "id": "6542d913-fb05-458a-b3b8-b80bd4f90a3e",
   "metadata": {},
   "outputs": [
    {
     "data": {
      "text/plain": [
       "array(['Good', 'Poor'], dtype=object)"
      ]
     },
     "execution_count": 27,
     "metadata": {},
     "output_type": "execute_result"
    }
   ],
   "source": [
    "df['payment_history'].unique()"
   ]
  },
  {
   "cell_type": "code",
   "execution_count": 28,
   "id": "46b3b6b8-8d04-4885-9eea-c16157be3f4a",
   "metadata": {},
   "outputs": [
    {
     "data": {
      "text/plain": [
       "array([2, 0, 3, 1, 5, 4])"
      ]
     },
     "execution_count": 28,
     "metadata": {},
     "output_type": "execute_result"
    }
   ],
   "source": [
    "df['num_outages'].unique()"
   ]
  },
  {
   "cell_type": "code",
   "execution_count": 29,
   "id": "7570b0d1-3fe9-48c3-8eb7-f6b9c8ffc748",
   "metadata": {},
   "outputs": [
    {
     "data": {
      "text/plain": [
       "array(['Residential', 'Industrial', 'Commercial'], dtype=object)"
      ]
     },
     "execution_count": 29,
     "metadata": {},
     "output_type": "execute_result"
    }
   ],
   "source": [
    "df['customer_type'].unique()"
   ]
  },
  {
   "cell_type": "code",
   "execution_count": 30,
   "id": "56371d02-b8b7-4621-a68e-755815cb8ea8",
   "metadata": {},
   "outputs": [
    {
     "data": {
      "text/plain": [
       "array(['urban', 'suburban', 'rural'], dtype=object)"
      ]
     },
     "execution_count": 30,
     "metadata": {},
     "output_type": "execute_result"
    }
   ],
   "source": [
    "df['location'].unique()"
   ]
  },
  {
   "cell_type": "code",
   "execution_count": 31,
   "id": "dd5b3bc4-7b46-4371-a443-c65383f2e50a",
   "metadata": {},
   "outputs": [
    {
     "data": {
      "text/plain": [
       "array([1, 0])"
      ]
     },
     "execution_count": 31,
     "metadata": {},
     "output_type": "execute_result"
    }
   ],
   "source": [
    "df['theft_detected'].unique()"
   ]
  },
  {
   "cell_type": "markdown",
   "id": "c76a0dfc-f535-4ee5-ba24-87de2a7cb2e4",
   "metadata": {},
   "source": [
    "- After seeing all columns unique values, **There is no wrong data**"
   ]
  },
  {
   "cell_type": "markdown",
   "id": "3fd39b3b-29e0-407e-85d7-bdef16e864ba",
   "metadata": {},
   "source": [
    "### Basic statistics"
   ]
  },
  {
   "cell_type": "code",
   "execution_count": 32,
   "id": "2472c922-57fe-4189-8e00-c22e7acd3b6d",
   "metadata": {},
   "outputs": [
    {
     "name": "stdout",
     "output_type": "stream",
     "text": [
      "\n",
      "Descriptive statistics:\n"
     ]
    },
    {
     "data": {
      "text/html": [
       "<div>\n",
       "<style scoped>\n",
       "    .dataframe tbody tr th:only-of-type {\n",
       "        vertical-align: middle;\n",
       "    }\n",
       "\n",
       "    .dataframe tbody tr th {\n",
       "        vertical-align: top;\n",
       "    }\n",
       "\n",
       "    .dataframe thead th {\n",
       "        text-align: right;\n",
       "    }\n",
       "</style>\n",
       "<table border=\"1\" class=\"dataframe\">\n",
       "  <thead>\n",
       "    <tr style=\"text-align: right;\">\n",
       "      <th></th>\n",
       "      <th>customer_id</th>\n",
       "      <th>billed_consumption</th>\n",
       "      <th>actual_consumption</th>\n",
       "      <th>average_voltage</th>\n",
       "      <th>peak_time_consumption</th>\n",
       "      <th>off_peak_consumption</th>\n",
       "      <th>power_factor</th>\n",
       "      <th>num_outages</th>\n",
       "      <th>theft_detected</th>\n",
       "    </tr>\n",
       "  </thead>\n",
       "  <tbody>\n",
       "    <tr>\n",
       "      <th>count</th>\n",
       "      <td>100000.000000</td>\n",
       "      <td>100000.00000</td>\n",
       "      <td>100000.000000</td>\n",
       "      <td>100000.000000</td>\n",
       "      <td>100000.000000</td>\n",
       "      <td>100000.000000</td>\n",
       "      <td>100000.000000</td>\n",
       "      <td>100000.000000</td>\n",
       "      <td>100000.000000</td>\n",
       "    </tr>\n",
       "    <tr>\n",
       "      <th>mean</th>\n",
       "      <td>51000.500000</td>\n",
       "      <td>374.94456</td>\n",
       "      <td>490.290328</td>\n",
       "      <td>220.219537</td>\n",
       "      <td>195.880607</td>\n",
       "      <td>294.409727</td>\n",
       "      <td>0.899846</td>\n",
       "      <td>2.506990</td>\n",
       "      <td>0.501900</td>\n",
       "    </tr>\n",
       "    <tr>\n",
       "      <th>std</th>\n",
       "      <td>28867.657797</td>\n",
       "      <td>129.90265</td>\n",
       "      <td>183.835252</td>\n",
       "      <td>25.533873</td>\n",
       "      <td>83.017190</td>\n",
       "      <td>117.035358</td>\n",
       "      <td>0.118991</td>\n",
       "      <td>1.706025</td>\n",
       "      <td>0.499999</td>\n",
       "    </tr>\n",
       "    <tr>\n",
       "      <th>min</th>\n",
       "      <td>1001.000000</td>\n",
       "      <td>150.00000</td>\n",
       "      <td>105.850000</td>\n",
       "      <td>173.640000</td>\n",
       "      <td>31.830000</td>\n",
       "      <td>52.430000</td>\n",
       "      <td>0.640000</td>\n",
       "      <td>0.000000</td>\n",
       "      <td>0.000000</td>\n",
       "    </tr>\n",
       "    <tr>\n",
       "      <th>25%</th>\n",
       "      <td>26000.750000</td>\n",
       "      <td>263.00000</td>\n",
       "      <td>356.760000</td>\n",
       "      <td>198.200000</td>\n",
       "      <td>134.700000</td>\n",
       "      <td>208.317500</td>\n",
       "      <td>0.810000</td>\n",
       "      <td>1.000000</td>\n",
       "      <td>0.000000</td>\n",
       "    </tr>\n",
       "    <tr>\n",
       "      <th>50%</th>\n",
       "      <td>51000.500000</td>\n",
       "      <td>375.00000</td>\n",
       "      <td>482.820000</td>\n",
       "      <td>220.380000</td>\n",
       "      <td>187.150000</td>\n",
       "      <td>286.750000</td>\n",
       "      <td>0.900000</td>\n",
       "      <td>3.000000</td>\n",
       "      <td>1.000000</td>\n",
       "    </tr>\n",
       "    <tr>\n",
       "      <th>75%</th>\n",
       "      <td>76000.250000</td>\n",
       "      <td>487.00000</td>\n",
       "      <td>615.292500</td>\n",
       "      <td>242.350000</td>\n",
       "      <td>247.530000</td>\n",
       "      <td>370.782500</td>\n",
       "      <td>0.990000</td>\n",
       "      <td>4.000000</td>\n",
       "      <td>1.000000</td>\n",
       "    </tr>\n",
       "    <tr>\n",
       "      <th>max</th>\n",
       "      <td>101000.000000</td>\n",
       "      <td>600.00000</td>\n",
       "      <td>1056.270000</td>\n",
       "      <td>267.550000</td>\n",
       "      <td>596.590000</td>\n",
       "      <td>768.290000</td>\n",
       "      <td>1.200000</td>\n",
       "      <td>5.000000</td>\n",
       "      <td>1.000000</td>\n",
       "    </tr>\n",
       "  </tbody>\n",
       "</table>\n",
       "</div>"
      ],
      "text/plain": [
       "         customer_id  billed_consumption  actual_consumption  average_voltage  \\\n",
       "count  100000.000000        100000.00000       100000.000000    100000.000000   \n",
       "mean    51000.500000           374.94456          490.290328       220.219537   \n",
       "std     28867.657797           129.90265          183.835252        25.533873   \n",
       "min      1001.000000           150.00000          105.850000       173.640000   \n",
       "25%     26000.750000           263.00000          356.760000       198.200000   \n",
       "50%     51000.500000           375.00000          482.820000       220.380000   \n",
       "75%     76000.250000           487.00000          615.292500       242.350000   \n",
       "max    101000.000000           600.00000         1056.270000       267.550000   \n",
       "\n",
       "       peak_time_consumption  off_peak_consumption   power_factor  \\\n",
       "count          100000.000000         100000.000000  100000.000000   \n",
       "mean              195.880607            294.409727       0.899846   \n",
       "std                83.017190            117.035358       0.118991   \n",
       "min                31.830000             52.430000       0.640000   \n",
       "25%               134.700000            208.317500       0.810000   \n",
       "50%               187.150000            286.750000       0.900000   \n",
       "75%               247.530000            370.782500       0.990000   \n",
       "max               596.590000            768.290000       1.200000   \n",
       "\n",
       "         num_outages  theft_detected  \n",
       "count  100000.000000   100000.000000  \n",
       "mean        2.506990        0.501900  \n",
       "std         1.706025        0.499999  \n",
       "min         0.000000        0.000000  \n",
       "25%         1.000000        0.000000  \n",
       "50%         3.000000        1.000000  \n",
       "75%         4.000000        1.000000  \n",
       "max         5.000000        1.000000  "
      ]
     },
     "metadata": {},
     "output_type": "display_data"
    }
   ],
   "source": [
    "print(\"\\nDescriptive statistics:\")\n",
    "display(df.describe())"
   ]
  },
  {
   "cell_type": "markdown",
   "id": "aefc786a-0b8a-4ce2-9803-9fd803108a49",
   "metadata": {},
   "source": [
    "- In this we can see complete Descriptive statistics(min, max, mean, etc..)"
   ]
  },
  {
   "cell_type": "markdown",
   "id": "47494460-e86b-428d-a160-8f4f23fec20a",
   "metadata": {},
   "source": [
    "**Class distribution**\n",
    "- The bar plot below shows the distribution of the target variable (theft_detected) in the dataset"
   ]
  },
  {
   "cell_type": "code",
   "execution_count": 33,
   "id": "13cb2f45-1161-4da9-9f47-c30ba36dce35",
   "metadata": {},
   "outputs": [
    {
     "data": {
      "image/png": "[encoded data removed]",
      "text/plain": [
       "<Figure size 640x480 with 1 Axes>"
      ]
     },
     "metadata": {},
     "output_type": "display_data"
    }
   ],
   "source": [
    "# Plot 1: Class distribution\n",
    "sns.countplot(x='theft_detected', data=df)\n",
    "plt.title('Class Distribution')\n",
    "plt.tight_layout()\n",
    "plt.show()"
   ]
  },
  {
   "cell_type": "markdown",
   "id": "2bb16cbe-8793-480d-9b3e-00b67061bd93",
   "metadata": {},
   "source": [
    "- From the plot, we can see that the **dataset is balanced** with nearly equal counts for both the classes. (around 50,000 each)\n",
    "\n",
    "- This balance is important because it ensures that the machine learning model will **not be biased towards one class.**"
   ]
  },
  {
   "cell_type": "markdown",
   "id": "d84148cf-0fae-4eec-9239-e2f280760059",
   "metadata": {},
   "source": [
    "# Data Cleaning"
   ]
  },
  {
   "cell_type": "code",
   "execution_count": 34,
   "id": "87c27ff6-7835-4f62-b25c-9da3da0167b6",
   "metadata": {},
   "outputs": [],
   "source": [
    "df.drop(columns=['customer_id'],inplace=True)"
   ]
  },
  {
   "cell_type": "markdown",
   "id": "1522ac78-422b-4e32-a068-abc62ef04954",
   "metadata": {},
   "source": [
    "- Drop the **customer_id** column"
   ]
  },
  {
   "cell_type": "markdown",
   "id": "d4844196-8814-4d03-97ff-95084acaa803",
   "metadata": {},
   "source": [
    "# Feature Engineering\n",
    "- **Create new features**"
   ]
  },
  {
   "cell_type": "code",
   "execution_count": 35,
   "id": "42c586bb-986c-4ba4-a98c-845ecdbe6966",
   "metadata": {},
   "outputs": [],
   "source": [
    "# Create new features\n",
    "df['consumption_diff'] = df['actual_consumption'] - df['billed_consumption']\n",
    "df['consumption_ratio'] = df['actual_consumption'] / df['billed_consumption']\n",
    "df['peak_offpeak_ratio'] = df['peak_time_consumption'] / df['off_peak_consumption']"
   ]
  },
  {
   "cell_type": "markdown",
   "id": "c5231736-9cdb-47bd-85e0-95fdfa1d5a5e",
   "metadata": {},
   "source": [
    "- **consumption_diff** is difference between the actual consumption and billed consumption. (Helps identify errors or mismatches in billing)\n",
    "\n",
    "- **consumption_ratio** is ratio of actual consumption to billed consumption. (Detects overbilling(>1) or underbilling(<1))\n",
    "\n",
    "- **peak_offpeak_ratio** is raio of consumption during peak hours to consumption during off-peak hours. (indicates customer`s tendency to use electricity during costly peak hours)"
   ]
  },
  {
   "cell_type": "code",
   "execution_count": 36,
   "id": "f8581247-f3c1-46fe-bcc0-0b3fb9c27a61",
   "metadata": {},
   "outputs": [],
   "source": [
    "df['peak_hour'] = pd.to_datetime(df['peak_usage_time']).dt.hour"
   ]
  },
  {
   "cell_type": "markdown",
   "id": "412b73da-f981-4e68-8711-a066c2bbff0a",
   "metadata": {},
   "source": [
    "- Extract hour from peak_usage_time"
   ]
  },
  {
   "cell_type": "code",
   "execution_count": 37,
   "id": "137f96e7-3a29-4e94-8031-cfde9a4cd2c9",
   "metadata": {},
   "outputs": [],
   "source": [
    "def get_time_of_day(hour):\n",
    "    if 5 <= hour < 12:\n",
    "        return 'morning'\n",
    "    elif 12 <= hour < 17:\n",
    "        return 'afternoon'\n",
    "    elif 17 <= hour < 21:\n",
    "        return 'evening'\n",
    "    else:\n",
    "        return 'night'\n",
    "\n",
    "df['time_of_day'] = df['peak_hour'].apply(get_time_of_day)"
   ]
  },
  {
   "cell_type": "markdown",
   "id": "4b301a1a-8064-4984-96cf-c8a02c25bdfb",
   "metadata": {},
   "source": [
    "**Create time of day categories**\n",
    "\n",
    "- **morning:** 5 AM - 12 PM\n",
    "\n",
    "- **afternoon:** 12 PM - 5 PM\n",
    "\n",
    "- **evening:** 5 PM - 9 PM\n",
    "\n",
    "- **night:** 9 PM - 5 AM"
   ]
  },
  {
   "cell_type": "code",
   "execution_count": 38,
   "id": "923f8289-593b-4503-9e01-054031347b86",
   "metadata": {},
   "outputs": [],
   "source": [
    "df.drop('peak_usage_time', axis=1, inplace=True)"
   ]
  },
  {
   "cell_type": "markdown",
   "id": "1c76c917-22c8-48eb-9367-fd6135b3c448",
   "metadata": {},
   "source": [
    "- Drop original time column"
   ]
  },
  {
   "cell_type": "markdown",
   "id": "9af01c75-0d7c-47be-898c-64afde903ac3",
   "metadata": {},
   "source": [
    "**Display new features**"
   ]
  },
  {
   "cell_type": "code",
   "execution_count": 39,
   "id": "ed80f5f0-98e4-457e-8300-75b220c64bb6",
   "metadata": {},
   "outputs": [
    {
     "name": "stdout",
     "output_type": "stream",
     "text": [
      "New features created:\n"
     ]
    },
    {
     "data": {
      "text/html": [
       "<div>\n",
       "<style scoped>\n",
       "    .dataframe tbody tr th:only-of-type {\n",
       "        vertical-align: middle;\n",
       "    }\n",
       "\n",
       "    .dataframe tbody tr th {\n",
       "        vertical-align: top;\n",
       "    }\n",
       "\n",
       "    .dataframe thead th {\n",
       "        text-align: right;\n",
       "    }\n",
       "</style>\n",
       "<table border=\"1\" class=\"dataframe\">\n",
       "  <thead>\n",
       "    <tr style=\"text-align: right;\">\n",
       "      <th></th>\n",
       "      <th>consumption_diff</th>\n",
       "      <th>consumption_ratio</th>\n",
       "      <th>peak_offpeak_ratio</th>\n",
       "      <th>peak_hour</th>\n",
       "      <th>time_of_day</th>\n",
       "    </tr>\n",
       "  </thead>\n",
       "  <tbody>\n",
       "    <tr>\n",
       "      <th>0</th>\n",
       "      <td>379.59</td>\n",
       "      <td>1.724408</td>\n",
       "      <td>1.001972</td>\n",
       "      <td>22</td>\n",
       "      <td>night</td>\n",
       "    </tr>\n",
       "    <tr>\n",
       "      <th>1</th>\n",
       "      <td>4.29</td>\n",
       "      <td>1.016437</td>\n",
       "      <td>0.424376</td>\n",
       "      <td>10</td>\n",
       "      <td>morning</td>\n",
       "    </tr>\n",
       "    <tr>\n",
       "      <th>2</th>\n",
       "      <td>9.71</td>\n",
       "      <td>1.022373</td>\n",
       "      <td>0.732391</td>\n",
       "      <td>16</td>\n",
       "      <td>afternoon</td>\n",
       "    </tr>\n",
       "    <tr>\n",
       "      <th>3</th>\n",
       "      <td>343.49</td>\n",
       "      <td>1.629103</td>\n",
       "      <td>0.726662</td>\n",
       "      <td>19</td>\n",
       "      <td>evening</td>\n",
       "    </tr>\n",
       "    <tr>\n",
       "      <th>4</th>\n",
       "      <td>90.29</td>\n",
       "      <td>1.367033</td>\n",
       "      <td>0.807525</td>\n",
       "      <td>16</td>\n",
       "      <td>afternoon</td>\n",
       "    </tr>\n",
       "  </tbody>\n",
       "</table>\n",
       "</div>"
      ],
      "text/plain": [
       "   consumption_diff  consumption_ratio  peak_offpeak_ratio  peak_hour  \\\n",
       "0            379.59           1.724408            1.001972         22   \n",
       "1              4.29           1.016437            0.424376         10   \n",
       "2              9.71           1.022373            0.732391         16   \n",
       "3            343.49           1.629103            0.726662         19   \n",
       "4             90.29           1.367033            0.807525         16   \n",
       "\n",
       "  time_of_day  \n",
       "0       night  \n",
       "1     morning  \n",
       "2   afternoon  \n",
       "3     evening  \n",
       "4   afternoon  "
      ]
     },
     "metadata": {},
     "output_type": "display_data"
    }
   ],
   "source": [
    "print(\"New features created:\")\n",
    "display(df[['consumption_diff', 'consumption_ratio', 'peak_offpeak_ratio', 'peak_hour', 'time_of_day']].head())"
   ]
  },
  {
   "cell_type": "code",
   "execution_count": 40,
   "id": "58141ec8-3f7c-4ed1-a2c1-0fea22940715",
   "metadata": {},
   "outputs": [],
   "source": [
    "df['month'] = pd.to_datetime(df['month'])"
   ]
  },
  {
   "cell_type": "markdown",
   "id": "65ca9b4a-83e4-4a1a-af61-58f2c9298244",
   "metadata": {},
   "source": [
    "- Convert the month column to datetime"
   ]
  },
  {
   "cell_type": "code",
   "execution_count": 41,
   "id": "4d512483-b021-48e8-af3b-3b3d7fb7f021",
   "metadata": {},
   "outputs": [],
   "source": [
    "df['month(2024)'] = df['month'].dt.month"
   ]
  },
  {
   "cell_type": "markdown",
   "id": "9f3b9450-64d6-4019-bcb8-6c8795864b1e",
   "metadata": {},
   "source": [
    "- Extract the month from it"
   ]
  },
  {
   "cell_type": "code",
   "execution_count": 42,
   "id": "892a7f9f-5550-489e-8fdb-4c4f5ac3bf74",
   "metadata": {},
   "outputs": [],
   "source": [
    "df.drop(columns=['month'],inplace=True)"
   ]
  },
  {
   "cell_type": "markdown",
   "id": "2188b0e0-a15f-4323-aabe-9191abe036a7",
   "metadata": {},
   "source": [
    "- Drop the month column, because year was 2024 only and we extract the month from that so there is no use by this column"
   ]
  },
  {
   "cell_type": "markdown",
   "id": "6165ac03-8bb4-47b1-82f8-ff7fce955d56",
   "metadata": {},
   "source": [
    "# Feature Encoding\n",
    "- Convert categorical data into a numerical format"
   ]
  },
  {
   "cell_type": "code",
   "execution_count": 43,
   "id": "c2289fa5-9cfc-45f6-b886-c7f35efbce8d",
   "metadata": {},
   "outputs": [],
   "source": [
    "df['payment_history_poor'] = pd.get_dummies(df['payment_history'],dtype=int,drop_first=True)"
   ]
  },
  {
   "cell_type": "code",
   "execution_count": 44,
   "id": "af2606de-6c62-4fff-9d07-36c8bf5f0844",
   "metadata": {},
   "outputs": [],
   "source": [
    "df.drop(columns=['payment_history'],inplace=True)"
   ]
  },
  {
   "cell_type": "markdown",
   "id": "4618c1c2-9c65-4cd6-895a-a7667c59b3be",
   "metadata": {},
   "source": [
    "- After encoding that column, We want to drop that column"
   ]
  },
  {
   "cell_type": "markdown",
   "id": "fdcfe21e-1053-409d-b3b7-85802bae2aed",
   "metadata": {},
   "source": [
    "**Import LabelEncoder**"
   ]
  },
  {
   "cell_type": "code",
   "execution_count": 45,
   "id": "453339c4-0f32-459b-a6b3-0cadc18a3496",
   "metadata": {},
   "outputs": [],
   "source": [
    "from sklearn.preprocessing import LabelEncoder\n",
    "le = LabelEncoder()"
   ]
  },
  {
   "cell_type": "markdown",
   "id": "f13ff24d-c91d-4c22-9d1f-179c65cbcedf",
   "metadata": {},
   "source": [
    "**Doing label-encoding**"
   ]
  },
  {
   "cell_type": "code",
   "execution_count": 46,
   "id": "adad6c62-b3c1-44c6-be3a-a15fd19786cd",
   "metadata": {},
   "outputs": [],
   "source": [
    "df['customer_type'] = le.fit_transform(df['customer_type'])"
   ]
  },
  {
   "cell_type": "code",
   "execution_count": 47,
   "id": "865e7d1f-4f60-4ba5-9f32-ac61ba51b467",
   "metadata": {},
   "outputs": [],
   "source": [
    "df['location'] = le.fit_transform(df['location'])"
   ]
  },
  {
   "cell_type": "code",
   "execution_count": 48,
   "id": "987305b7-65ff-472c-a675-c826c134a8d6",
   "metadata": {},
   "outputs": [],
   "source": [
    "df['time_of_day'] = le.fit_transform(df['time_of_day'])"
   ]
  },
  {
   "cell_type": "markdown",
   "id": "f97204b8-3ab9-4306-8922-b945360e9f26",
   "metadata": {},
   "source": [
    "**Display the columns after Encoding**"
   ]
  },
  {
   "cell_type": "code",
   "execution_count": 49,
   "id": "7de86b33-fda1-4aa0-97f9-db247239d3fe",
   "metadata": {},
   "outputs": [
    {
     "data": {
      "text/html": [
       "<div>\n",
       "<style scoped>\n",
       "    .dataframe tbody tr th:only-of-type {\n",
       "        vertical-align: middle;\n",
       "    }\n",
       "\n",
       "    .dataframe tbody tr th {\n",
       "        vertical-align: top;\n",
       "    }\n",
       "\n",
       "    .dataframe thead th {\n",
       "        text-align: right;\n",
       "    }\n",
       "</style>\n",
       "<table border=\"1\" class=\"dataframe\">\n",
       "  <thead>\n",
       "    <tr style=\"text-align: right;\">\n",
       "      <th></th>\n",
       "      <th>billed_consumption</th>\n",
       "      <th>actual_consumption</th>\n",
       "      <th>average_voltage</th>\n",
       "      <th>peak_time_consumption</th>\n",
       "      <th>off_peak_consumption</th>\n",
       "      <th>power_factor</th>\n",
       "      <th>num_outages</th>\n",
       "      <th>customer_type</th>\n",
       "      <th>location</th>\n",
       "      <th>theft_detected</th>\n",
       "      <th>consumption_diff</th>\n",
       "      <th>consumption_ratio</th>\n",
       "      <th>peak_offpeak_ratio</th>\n",
       "      <th>peak_hour</th>\n",
       "      <th>time_of_day</th>\n",
       "      <th>month(2024)</th>\n",
       "      <th>payment_history_poor</th>\n",
       "    </tr>\n",
       "  </thead>\n",
       "  <tbody>\n",
       "    <tr>\n",
       "      <th>0</th>\n",
       "      <td>524</td>\n",
       "      <td>903.59</td>\n",
       "      <td>183.11</td>\n",
       "      <td>452.24</td>\n",
       "      <td>451.35</td>\n",
       "      <td>0.98</td>\n",
       "      <td>2</td>\n",
       "      <td>2</td>\n",
       "      <td>2</td>\n",
       "      <td>1</td>\n",
       "      <td>379.59</td>\n",
       "      <td>1.724408</td>\n",
       "      <td>1.001972</td>\n",
       "      <td>22</td>\n",
       "      <td>3</td>\n",
       "      <td>4</td>\n",
       "      <td>0</td>\n",
       "    </tr>\n",
       "    <tr>\n",
       "      <th>1</th>\n",
       "      <td>261</td>\n",
       "      <td>265.29</td>\n",
       "      <td>211.88</td>\n",
       "      <td>79.04</td>\n",
       "      <td>186.25</td>\n",
       "      <td>0.94</td>\n",
       "      <td>0</td>\n",
       "      <td>1</td>\n",
       "      <td>1</td>\n",
       "      <td>0</td>\n",
       "      <td>4.29</td>\n",
       "      <td>1.016437</td>\n",
       "      <td>0.424376</td>\n",
       "      <td>10</td>\n",
       "      <td>2</td>\n",
       "      <td>5</td>\n",
       "      <td>0</td>\n",
       "    </tr>\n",
       "    <tr>\n",
       "      <th>2</th>\n",
       "      <td>434</td>\n",
       "      <td>443.71</td>\n",
       "      <td>207.57</td>\n",
       "      <td>187.58</td>\n",
       "      <td>256.12</td>\n",
       "      <td>1.11</td>\n",
       "      <td>3</td>\n",
       "      <td>0</td>\n",
       "      <td>0</td>\n",
       "      <td>0</td>\n",
       "      <td>9.71</td>\n",
       "      <td>1.022373</td>\n",
       "      <td>0.732391</td>\n",
       "      <td>16</td>\n",
       "      <td>0</td>\n",
       "      <td>5</td>\n",
       "      <td>0</td>\n",
       "    </tr>\n",
       "    <tr>\n",
       "      <th>3</th>\n",
       "      <td>546</td>\n",
       "      <td>889.49</td>\n",
       "      <td>228.48</td>\n",
       "      <td>374.34</td>\n",
       "      <td>515.15</td>\n",
       "      <td>0.89</td>\n",
       "      <td>1</td>\n",
       "      <td>1</td>\n",
       "      <td>1</td>\n",
       "      <td>1</td>\n",
       "      <td>343.49</td>\n",
       "      <td>1.629103</td>\n",
       "      <td>0.726662</td>\n",
       "      <td>19</td>\n",
       "      <td>1</td>\n",
       "      <td>9</td>\n",
       "      <td>1</td>\n",
       "    </tr>\n",
       "    <tr>\n",
       "      <th>4</th>\n",
       "      <td>246</td>\n",
       "      <td>336.29</td>\n",
       "      <td>264.81</td>\n",
       "      <td>150.24</td>\n",
       "      <td>186.05</td>\n",
       "      <td>1.15</td>\n",
       "      <td>5</td>\n",
       "      <td>0</td>\n",
       "      <td>1</td>\n",
       "      <td>1</td>\n",
       "      <td>90.29</td>\n",
       "      <td>1.367033</td>\n",
       "      <td>0.807525</td>\n",
       "      <td>16</td>\n",
       "      <td>0</td>\n",
       "      <td>11</td>\n",
       "      <td>1</td>\n",
       "    </tr>\n",
       "  </tbody>\n",
       "</table>\n",
       "</div>"
      ],
      "text/plain": [
       "   billed_consumption  actual_consumption  average_voltage  \\\n",
       "0                 524              903.59           183.11   \n",
       "1                 261              265.29           211.88   \n",
       "2                 434              443.71           207.57   \n",
       "3                 546              889.49           228.48   \n",
       "4                 246              336.29           264.81   \n",
       "\n",
       "   peak_time_consumption  off_peak_consumption  power_factor  num_outages  \\\n",
       "0                 452.24                451.35          0.98            2   \n",
       "1                  79.04                186.25          0.94            0   \n",
       "2                 187.58                256.12          1.11            3   \n",
       "3                 374.34                515.15          0.89            1   \n",
       "4                 150.24                186.05          1.15            5   \n",
       "\n",
       "   customer_type  location  theft_detected  consumption_diff  \\\n",
       "0              2         2               1            379.59   \n",
       "1              1         1               0              4.29   \n",
       "2              0         0               0              9.71   \n",
       "3              1         1               1            343.49   \n",
       "4              0         1               1             90.29   \n",
       "\n",
       "   consumption_ratio  peak_offpeak_ratio  peak_hour  time_of_day  month(2024)  \\\n",
       "0           1.724408            1.001972         22            3            4   \n",
       "1           1.016437            0.424376         10            2            5   \n",
       "2           1.022373            0.732391         16            0            5   \n",
       "3           1.629103            0.726662         19            1            9   \n",
       "4           1.367033            0.807525         16            0           11   \n",
       "\n",
       "   payment_history_poor  \n",
       "0                     0  \n",
       "1                     0  \n",
       "2                     0  \n",
       "3                     1  \n",
       "4                     1  "
      ]
     },
     "execution_count": 49,
     "metadata": {},
     "output_type": "execute_result"
    }
   ],
   "source": [
    "df.head()"
   ]
  },
  {
   "cell_type": "markdown",
   "id": "e4f5d75c-73a2-4286-a870-322c9abdc31a",
   "metadata": {},
   "source": [
    "- All categorical columns are encoded to numerical format"
   ]
  },
  {
   "cell_type": "code",
   "execution_count": 50,
   "id": "d73bc687-399c-4e3a-b4e6-7e181eb06c93",
   "metadata": {},
   "outputs": [],
   "source": [
    "continues = ['billed_consumption','actual_consumption','average_voltage','peak_time_consumption','off_peak_consumption',\n",
    "            'power_factor','consumption_diff','consumption_ratio','peak_offpeak_ratio']"
   ]
  },
  {
   "cell_type": "markdown",
   "id": "e1130c16-ffba-4e4f-84a4-5e193f2929b1",
   "metadata": {},
   "source": [
    "- Separating all continues columns for future purpose"
   ]
  },
  {
   "cell_type": "markdown",
   "id": "c2473a57-6616-4f13-9bf0-197841bff978",
   "metadata": {},
   "source": [
    "### Check outliers"
   ]
  },
  {
   "cell_type": "code",
   "execution_count": 51,
   "id": "146ecd67-895f-4dcb-b141-e5315949c743",
   "metadata": {},
   "outputs": [
    {
     "data": {
      "image/png": "[encoded data removed]",
      "text/plain": [
       "<Figure size 1500x1000 with 9 Axes>"
      ]
     },
     "metadata": {},
     "output_type": "display_data"
    }
   ],
   "source": [
    "plt.figure(figsize=(15, 10))\n",
    "\n",
    "plt.subplot(3, 3, 1)\n",
    "sns.boxplot(df['billed_consumption'])\n",
    "\n",
    "plt.subplot(3, 3, 2)\n",
    "sns.boxplot(df['actual_consumption'])\n",
    "\n",
    "plt.subplot(3, 3, 3)\n",
    "sns.boxplot(df['average_voltage'])\n",
    "\n",
    "plt.subplot(3, 3, 4)\n",
    "sns.boxplot(df['peak_time_consumption'])\n",
    "\n",
    "plt.subplot(3, 3, 5)\n",
    "sns.boxplot(df['off_peak_consumption'])\n",
    "\n",
    "plt.subplot(3, 3, 6)\n",
    "sns.boxplot(df['power_factor'])\n",
    "\n",
    "plt.subplot(3, 3, 7)\n",
    "sns.boxplot(df['consumption_diff'])\n",
    "\n",
    "plt.subplot(3, 3, 8)\n",
    "sns.boxplot(df['consumption_ratio'])\n",
    "\n",
    "plt.subplot(3, 3, 9)\n",
    "sns.boxplot(df['peak_offpeak_ratio'])\n",
    "\n",
    "plt.tight_layout()\n",
    "plt.show()"
   ]
  },
  {
   "cell_type": "markdown",
   "id": "7b054b72-baf6-4352-ba1c-0505378c9876",
   "metadata": {},
   "source": [
    "**Observations:**\n",
    "\n",
    "- The dataset belongs to the **Energy Theft Detection** domain, where unusual consumption patterns are expected.\n",
    "\n",
    "- High or low deviations in consumption can represent **genuine cases of theft or abnormal usage**.\n",
    "\n",
    "- Removing or treating these values as traditional outliers would lead to a **loss of important business signals**.\n",
    "\n",
    "**Decision:**\n",
    "\n",
    "- The outliers are **kept as they are** in the dataset.\n",
    "\n",
    "- They are considered **realistic and meaningful** for this business problem, as they may carry strong indicators of theft-related behavior.\n"
   ]
  },
  {
   "cell_type": "markdown",
   "id": "ad8abb7f-1382-4b6e-a5b5-b2f96e171ff3",
   "metadata": {},
   "source": [
    "### Skewness check for continuous features"
   ]
  },
  {
   "cell_type": "code",
   "execution_count": 52,
   "id": "379f4300-15e0-4a9e-b39e-8b2c026b90fc",
   "metadata": {},
   "outputs": [
    {
     "name": "stdout",
     "output_type": "stream",
     "text": [
      "billed_consumption  :  -8.028581203982795e-05\n",
      "actual_consumption  :  0.2356165981758425\n",
      "average_voltage  :  -0.010507165144114875\n",
      "peak_time_consumption  :  0.5939141854851564\n",
      "off_peak_consumption  :  0.39927549604966134\n",
      "power_factor  :  0.1436594195037892\n",
      "consumption_diff  :  0.3651848406528127\n",
      "consumption_ratio  :  1.0670415851795783\n",
      "peak_offpeak_ratio  :  0.8121709740320486\n"
     ]
    }
   ],
   "source": [
    "for i in continues:\n",
    "    print(i,' : ',df[i].skew())"
   ]
  },
  {
   "cell_type": "markdown",
   "id": "79ce5108-a775-470a-8bff-561f18997b6d",
   "metadata": {},
   "source": [
    "- Feature **consumption_ratio** show right skewness\n",
    "\n",
    "- In the **energy theft detection problem**, skewness is **meaningful and intentional**.\n",
    "\n",
    "- Unusual values (long tails) often correspond to **suspicious consumption patterns**.\n",
    "\n",
    "- Therefore, we will **not apply transformations (e.g., log, Box-Cox)** to normalize these features.\n",
    "\n",
    "- Skewness in this dataset is **not a problem to fix**, but rather a **business-driven insight** that helps differentiate normal from abnormal consumption.\n"
   ]
  },
  {
   "cell_type": "markdown",
   "id": "87d81a7b-6bac-4d16-8b80-ab8b7bac7d75",
   "metadata": {},
   "source": [
    "### Observation of skewness and outliers\n",
    "\n",
    "- But in this business problem, the **skewness and outliers are actually meaningful** — they represent hidden abnormal consumption behaviors that may signal theft.\n",
    "\n",
    "- By transforming the data, those extreme theft-related patterns would get compressed and start looking like normal consumption.\n",
    "\n",
    "- This makes it harder for the ML model (or analysis) **to separate normal customers from potential theft cases.**"
   ]
  },
  {
   "cell_type": "markdown",
   "id": "e40ea1a8-8020-4cab-9d6e-3d53d7d95972",
   "metadata": {},
   "source": [
    "# Feature Scaling"
   ]
  },
  {
   "cell_type": "markdown",
   "id": "b1a1d6b9-926a-4635-9e14-ea028a38a492",
   "metadata": {},
   "source": [
    "**Import StandardScaler**"
   ]
  },
  {
   "cell_type": "code",
   "execution_count": 53,
   "id": "db9bf3c6-8c7e-4ac5-9f9d-f61d8e093307",
   "metadata": {},
   "outputs": [],
   "source": [
    "from sklearn.preprocessing import StandardScaler\n",
    "ss = StandardScaler()"
   ]
  },
  {
   "cell_type": "markdown",
   "id": "420ab674-6e22-47ef-b4e5-5ec59688d3d4",
   "metadata": {},
   "source": [
    "**Scaling was done for all continuous features**"
   ]
  },
  {
   "cell_type": "code",
   "execution_count": 54,
   "id": "7d8cadba-34b4-4afd-83a4-4142532399f2",
   "metadata": {},
   "outputs": [],
   "source": [
    "for i in continues:\n",
    "    df[i] = ss.fit_transform(df[[i]])"
   ]
  },
  {
   "cell_type": "markdown",
   "id": "2ba60390-93e7-4813-a6e0-4c16ef324611",
   "metadata": {},
   "source": [
    "**After scaling display the data**"
   ]
  },
  {
   "cell_type": "code",
   "execution_count": 55,
   "id": "49fb0586-9eda-4ea8-a067-669542742ea3",
   "metadata": {},
   "outputs": [
    {
     "data": {
      "text/html": [
       "<div>\n",
       "<style scoped>\n",
       "    .dataframe tbody tr th:only-of-type {\n",
       "        vertical-align: middle;\n",
       "    }\n",
       "\n",
       "    .dataframe tbody tr th {\n",
       "        vertical-align: top;\n",
       "    }\n",
       "\n",
       "    .dataframe thead th {\n",
       "        text-align: right;\n",
       "    }\n",
       "</style>\n",
       "<table border=\"1\" class=\"dataframe\">\n",
       "  <thead>\n",
       "    <tr style=\"text-align: right;\">\n",
       "      <th></th>\n",
       "      <th>billed_consumption</th>\n",
       "      <th>actual_consumption</th>\n",
       "      <th>average_voltage</th>\n",
       "      <th>peak_time_consumption</th>\n",
       "      <th>off_peak_consumption</th>\n",
       "      <th>power_factor</th>\n",
       "      <th>num_outages</th>\n",
       "      <th>customer_type</th>\n",
       "      <th>location</th>\n",
       "      <th>theft_detected</th>\n",
       "      <th>consumption_diff</th>\n",
       "      <th>consumption_ratio</th>\n",
       "      <th>peak_offpeak_ratio</th>\n",
       "      <th>peak_hour</th>\n",
       "      <th>time_of_day</th>\n",
       "      <th>month(2024)</th>\n",
       "      <th>payment_history_poor</th>\n",
       "    </tr>\n",
       "  </thead>\n",
       "  <tbody>\n",
       "    <tr>\n",
       "      <th>0</th>\n",
       "      <td>1.147445</td>\n",
       "      <td>2.248218</td>\n",
       "      <td>-1.453353</td>\n",
       "      <td>3.088043</td>\n",
       "      <td>1.340971</td>\n",
       "      <td>0.673619</td>\n",
       "      <td>2</td>\n",
       "      <td>2</td>\n",
       "      <td>2</td>\n",
       "      <td>1</td>\n",
       "      <td>2.039450</td>\n",
       "      <td>0.839275</td>\n",
       "      <td>1.384486</td>\n",
       "      <td>22</td>\n",
       "      <td>3</td>\n",
       "      <td>4</td>\n",
       "      <td>0</td>\n",
       "    </tr>\n",
       "    <tr>\n",
       "      <th>1</th>\n",
       "      <td>-0.877158</td>\n",
       "      <td>-1.223930</td>\n",
       "      <td>-0.326608</td>\n",
       "      <td>-1.407434</td>\n",
       "      <td>-0.924167</td>\n",
       "      <td>0.337457</td>\n",
       "      <td>0</td>\n",
       "      <td>1</td>\n",
       "      <td>1</td>\n",
       "      <td>0</td>\n",
       "      <td>-0.857134</td>\n",
       "      <td>-0.768166</td>\n",
       "      <td>-1.201929</td>\n",
       "      <td>10</td>\n",
       "      <td>2</td>\n",
       "      <td>5</td>\n",
       "      <td>0</td>\n",
       "    </tr>\n",
       "    <tr>\n",
       "      <th>2</th>\n",
       "      <td>0.454615</td>\n",
       "      <td>-0.253382</td>\n",
       "      <td>-0.495405</td>\n",
       "      <td>-0.099987</td>\n",
       "      <td>-0.327165</td>\n",
       "      <td>1.766147</td>\n",
       "      <td>3</td>\n",
       "      <td>0</td>\n",
       "      <td>0</td>\n",
       "      <td>0</td>\n",
       "      <td>-0.815302</td>\n",
       "      <td>-0.754688</td>\n",
       "      <td>0.177331</td>\n",
       "      <td>16</td>\n",
       "      <td>0</td>\n",
       "      <td>5</td>\n",
       "      <td>0</td>\n",
       "    </tr>\n",
       "    <tr>\n",
       "      <th>3</th>\n",
       "      <td>1.316804</td>\n",
       "      <td>2.171519</td>\n",
       "      <td>0.323512</td>\n",
       "      <td>2.149679</td>\n",
       "      <td>1.886108</td>\n",
       "      <td>-0.082746</td>\n",
       "      <td>1</td>\n",
       "      <td>1</td>\n",
       "      <td>1</td>\n",
       "      <td>1</td>\n",
       "      <td>1.760829</td>\n",
       "      <td>0.622884</td>\n",
       "      <td>0.151677</td>\n",
       "      <td>19</td>\n",
       "      <td>1</td>\n",
       "      <td>9</td>\n",
       "      <td>1</td>\n",
       "    </tr>\n",
       "    <tr>\n",
       "      <th>4</th>\n",
       "      <td>-0.992630</td>\n",
       "      <td>-0.837713</td>\n",
       "      <td>1.746335</td>\n",
       "      <td>-0.549776</td>\n",
       "      <td>-0.925876</td>\n",
       "      <td>2.102309</td>\n",
       "      <td>5</td>\n",
       "      <td>0</td>\n",
       "      <td>1</td>\n",
       "      <td>1</td>\n",
       "      <td>-0.193382</td>\n",
       "      <td>0.027857</td>\n",
       "      <td>0.513772</td>\n",
       "      <td>16</td>\n",
       "      <td>0</td>\n",
       "      <td>11</td>\n",
       "      <td>1</td>\n",
       "    </tr>\n",
       "  </tbody>\n",
       "</table>\n",
       "</div>"
      ],
      "text/plain": [
       "   billed_consumption  actual_consumption  average_voltage  \\\n",
       "0            1.147445            2.248218        -1.453353   \n",
       "1           -0.877158           -1.223930        -0.326608   \n",
       "2            0.454615           -0.253382        -0.495405   \n",
       "3            1.316804            2.171519         0.323512   \n",
       "4           -0.992630           -0.837713         1.746335   \n",
       "\n",
       "   peak_time_consumption  off_peak_consumption  power_factor  num_outages  \\\n",
       "0               3.088043              1.340971      0.673619            2   \n",
       "1              -1.407434             -0.924167      0.337457            0   \n",
       "2              -0.099987             -0.327165      1.766147            3   \n",
       "3               2.149679              1.886108     -0.082746            1   \n",
       "4              -0.549776             -0.925876      2.102309            5   \n",
       "\n",
       "   customer_type  location  theft_detected  consumption_diff  \\\n",
       "0              2         2               1          2.039450   \n",
       "1              1         1               0         -0.857134   \n",
       "2              0         0               0         -0.815302   \n",
       "3              1         1               1          1.760829   \n",
       "4              0         1               1         -0.193382   \n",
       "\n",
       "   consumption_ratio  peak_offpeak_ratio  peak_hour  time_of_day  month(2024)  \\\n",
       "0           0.839275            1.384486         22            3            4   \n",
       "1          -0.768166           -1.201929         10            2            5   \n",
       "2          -0.754688            0.177331         16            0            5   \n",
       "3           0.622884            0.151677         19            1            9   \n",
       "4           0.027857            0.513772         16            0           11   \n",
       "\n",
       "   payment_history_poor  \n",
       "0                     0  \n",
       "1                     0  \n",
       "2                     0  \n",
       "3                     1  \n",
       "4                     1  "
      ]
     },
     "execution_count": 55,
     "metadata": {},
     "output_type": "execute_result"
    }
   ],
   "source": [
    "df.head()"
   ]
  },
  {
   "cell_type": "markdown",
   "id": "1ea9ff72-cc70-4592-80c1-5f60cc172738",
   "metadata": {},
   "source": [
    "**Check class distribution**"
   ]
  },
  {
   "cell_type": "code",
   "execution_count": 56,
   "id": "fe588357-52f8-4ded-8813-79204bfeeeb1",
   "metadata": {},
   "outputs": [
    {
     "name": "stdout",
     "output_type": "stream",
     "text": [
      "\n",
      "Class distribution (theft_detected):\n",
      "theft_detected\n",
      "1    50190\n",
      "0    49810\n",
      "Name: count, dtype: int64\n"
     ]
    }
   ],
   "source": [
    "print(\"\\nClass distribution (theft_detected):\")\n",
    "print(df['theft_detected'].value_counts())"
   ]
  },
  {
   "cell_type": "markdown",
   "id": "a855a3da-7b58-4b15-99cd-c5e0e9312ba1",
   "metadata": {},
   "source": [
    "- **1** -> Theft detected\n",
    "- **0** -> No Theft detected"
   ]
  },
  {
   "cell_type": "markdown",
   "id": "59ac028b-d29b-4aec-96e0-4e4af721c5dc",
   "metadata": {},
   "source": [
    "**checking ratio for theft_detected**"
   ]
  },
  {
   "cell_type": "code",
   "execution_count": 57,
   "id": "299728ae-a4fd-4ca7-a496-b9fc7574d0fd",
   "metadata": {},
   "outputs": [
    {
     "data": {
      "text/plain": [
       "1.0076289901626179"
      ]
     },
     "execution_count": 57,
     "metadata": {},
     "output_type": "execute_result"
    }
   ],
   "source": [
    "50190/49810"
   ]
  },
  {
   "cell_type": "markdown",
   "id": "952960b9-d312-4e67-b2b1-128b0adf1cf1",
   "metadata": {},
   "source": [
    "- We calculate the **ratio** between theft(1) and non-theft(0) cases\n",
    "\n",
    "- This ratio is very close to **1**, which confirms that the dataset is **balanced**.\n",
    "\n",
    "- This **balance is important** because it ensures that the machine learning model will **not be biased towards one class.**\n",
    "\n",
    "- So, no resampling techniques (like oversampling/undersampling) are required before training models."
   ]
  },
  {
   "cell_type": "markdown",
   "id": "34e4b6cd-5c2e-4c03-880e-a8cb8ec9be8b",
   "metadata": {},
   "source": [
    "**Spliting the data**"
   ]
  },
  {
   "cell_type": "code",
   "execution_count": 58,
   "id": "9f90fdb9-084a-4eb2-b099-9e7f4f2e9001",
   "metadata": {},
   "outputs": [],
   "source": [
    "x = df.drop(columns=['theft_detected'])\n",
    "y = df['theft_detected']"
   ]
  },
  {
   "cell_type": "markdown",
   "id": "7169a535-125a-480c-b22e-13a46d959a15",
   "metadata": {},
   "source": [
    "# Models"
   ]
  },
  {
   "cell_type": "markdown",
   "id": "c85c76a7-e716-4beb-854b-fa876dcebd17",
   "metadata": {},
   "source": [
    "- **Select Best Random State Number**"
   ]
  },
  {
   "cell_type": "code",
   "execution_count": 65,
   "id": "8bf7427a-96ad-4893-9827-73e49a48bcdf",
   "metadata": {},
   "outputs": [],
   "source": [
    "from sklearn.model_selection import train_test_split\n",
    "from sklearn.linear_model import LogisticRegression"
   ]
  },
  {
   "cell_type": "code",
   "execution_count": 66,
   "id": "4b6301c5-24de-48a3-9e45-bf20a3b22c33",
   "metadata": {},
   "outputs": [],
   "source": [
    "train = []\n",
    "test = []\n",
    "for i in range(0,100):\n",
    "    x_train,x_test,y_train,y_test = train_test_split(x,y,train_size=0.8,random_state=i)\n",
    "    l = LogisticRegression()\n",
    "    l.fit(x_train,y_train)\n",
    "    train.append(l.score(x_train,y_train))\n",
    "    test.append(l.score(x_test,y_test))\n",
    "rs = pd.DataFrame()\n",
    "rs['train'] = train\n",
    "rs['test'] = test "
   ]
  },
  {
   "cell_type": "code",
   "execution_count": 67,
   "id": "145606ad-398b-46a8-9804-bdba2908fd95",
   "metadata": {},
   "outputs": [
    {
     "data": {
      "text/html": [
       "<div>\n",
       "<style scoped>\n",
       "    .dataframe tbody tr th:only-of-type {\n",
       "        vertical-align: middle;\n",
       "    }\n",
       "\n",
       "    .dataframe tbody tr th {\n",
       "        vertical-align: top;\n",
       "    }\n",
       "\n",
       "    .dataframe thead th {\n",
       "        text-align: right;\n",
       "    }\n",
       "</style>\n",
       "<table border=\"1\" class=\"dataframe\">\n",
       "  <thead>\n",
       "    <tr style=\"text-align: right;\">\n",
       "      <th></th>\n",
       "      <th>train</th>\n",
       "      <th>test</th>\n",
       "    </tr>\n",
       "  </thead>\n",
       "  <tbody>\n",
       "    <tr>\n",
       "      <th>61</th>\n",
       "      <td>0.965013</td>\n",
       "      <td>0.96815</td>\n",
       "    </tr>\n",
       "  </tbody>\n",
       "</table>\n",
       "</div>"
      ],
      "text/plain": [
       "       train     test\n",
       "61  0.965013  0.96815"
      ]
     },
     "execution_count": 67,
     "metadata": {},
     "output_type": "execute_result"
    }
   ],
   "source": [
    "rs = rs[(rs['train']-rs['test']<0.05) & (rs['train']-rs['test']>-0.05)]\n",
    "rs[rs['test'] == rs['test'].max()]"
   ]
  },
  {
   "cell_type": "markdown",
   "id": "a53fc2cd-3d54-4d97-b587-6ea1cf12c2ea",
   "metadata": {},
   "source": [
    "- **61** is the best random state number for this dataset"
   ]
  },
  {
   "cell_type": "code",
   "execution_count": 68,
   "id": "d9134361-14cc-4417-8ce1-e65ebefd7ce3",
   "metadata": {},
   "outputs": [],
   "source": [
    "x_train,x_test,y_train,y_test = train_test_split(x,y,train_size=0.8,random_state=61)"
   ]
  },
  {
   "cell_type": "markdown",
   "id": "f9d966bc-6a49-4950-86e4-0ed9672a4ea0",
   "metadata": {},
   "source": [
    "- Split the data by using **61 is the random state number**"
   ]
  },
  {
   "cell_type": "markdown",
   "id": "6f2b4315-190c-4b17-8406-6731d0b5e09e",
   "metadata": {},
   "source": [
    "# Logestic Regression"
   ]
  },
  {
   "cell_type": "markdown",
   "id": "25f537ee-a3c5-442b-b6db-3a66a4cd1c2f",
   "metadata": {},
   "source": [
    "**Import Logistic Regression**"
   ]
  },
  {
   "cell_type": "code",
   "execution_count": 69,
   "id": "4ecde6d6-7b88-4e55-b877-46bae94c24dd",
   "metadata": {},
   "outputs": [],
   "source": [
    "from sklearn.linear_model import LogisticRegression\n",
    "from sklearn.model_selection import cross_val_score"
   ]
  },
  {
   "cell_type": "markdown",
   "id": "00dd108d-cb60-41e5-8fe9-ee6c7663e216",
   "metadata": {},
   "source": [
    "- Import **cross_val_score** for identify the model perfomances"
   ]
  },
  {
   "cell_type": "code",
   "execution_count": 70,
   "id": "b1745e81-d31f-4623-af2d-61eb81858d9b",
   "metadata": {},
   "outputs": [
    {
     "name": "stdout",
     "output_type": "stream",
     "text": [
      "0.9650125\n",
      "0.9649749999999999\n",
      "0.96815\n"
     ]
    }
   ],
   "source": [
    "l = LogisticRegression()\n",
    "l.fit(x_train,y_train)\n",
    "print(l.score(x_train,y_train))\n",
    "print(cross_val_score(l,x_train,y_train,cv=5).mean())\n",
    "print(l.score(x_test,y_test))"
   ]
  },
  {
   "cell_type": "markdown",
   "id": "9d68b872-6fdd-4ca1-9d5a-f6648915b545",
   "metadata": {},
   "source": [
    "- Here we can see the **Train accuracy** & **Cross validation score** and **Test accuracy**\n",
    "\n",
    "- By observing this it is a **Good model**"
   ]
  },
  {
   "cell_type": "markdown",
   "id": "d1605f1c-2bb6-4003-a87a-ffe87773979f",
   "metadata": {},
   "source": [
    "# KNN"
   ]
  },
  {
   "cell_type": "markdown",
   "id": "5091dce4-83b5-4597-baed-686cb62a1d47",
   "metadata": {},
   "source": [
    "**Import K-Nearest Neighbors (KNN)**"
   ]
  },
  {
   "cell_type": "code",
   "execution_count": 71,
   "id": "c18e73a4-4aa3-48d6-8e64-dc3f67517107",
   "metadata": {},
   "outputs": [],
   "source": [
    "from sklearn.neighbors import KNeighborsClassifier\n",
    "from sklearn.model_selection import GridSearchCV"
   ]
  },
  {
   "cell_type": "markdown",
   "id": "da456268-8e80-40da-9a5c-141dd326df2e",
   "metadata": {},
   "source": [
    "- Import **GridSearchCV** for identify the best parameters"
   ]
  },
  {
   "cell_type": "code",
   "execution_count": 72,
   "id": "b372c0a4-eb2a-4f75-bfcb-bad9c8350ccc",
   "metadata": {},
   "outputs": [
    {
     "data": {
      "text/plain": [
       "{'n_neighbors': 23}"
      ]
     },
     "execution_count": 72,
     "metadata": {},
     "output_type": "execute_result"
    }
   ],
   "source": [
    "estimator = KNeighborsClassifier()\n",
    "param_grid = {'n_neighbors' : list(range(20,30))}\n",
    "knn_ = GridSearchCV(estimator,param_grid,cv=5,scoring='accuracy')\n",
    "knn_.fit(x_train,y_train)\n",
    "knn_.best_params_"
   ]
  },
  {
   "cell_type": "markdown",
   "id": "82b3c394-b08d-45ef-8589-5a9074c85a08",
   "metadata": {},
   "source": [
    "- It was the **best parameter** for **KNN Model**"
   ]
  },
  {
   "cell_type": "code",
   "execution_count": 94,
   "id": "f7a0bd56-8985-4406-8c85-dbd945a5bee2",
   "metadata": {},
   "outputs": [
    {
     "name": "stdout",
     "output_type": "stream",
     "text": [
      "0.956725\n",
      "0.9493874999999999\n",
      "0.95245\n"
     ]
    }
   ],
   "source": [
    "knn = KNeighborsClassifier(n_neighbors = 23)\n",
    "knn.fit(x_train,y_train)\n",
    "print(knn.score(x_train,y_train))\n",
    "print(cross_val_score(knn,x_train,y_train,cv=5).mean())\n",
    "print(knn.score(x_test,y_test))"
   ]
  },
  {
   "cell_type": "markdown",
   "id": "54fb5d50-5029-417f-bde6-c4c6a2e820c3",
   "metadata": {},
   "source": [
    "- Here we can see the **Train accuracy** & **Cross validation score** and **Test accuracy**\n",
    "\n",
    "- By observing this it is a **Good model**"
   ]
  },
  {
   "cell_type": "markdown",
   "id": "a3bd14a6-ab52-4086-b9f4-5b5b275fbc1c",
   "metadata": {},
   "source": [
    "# SVM"
   ]
  },
  {
   "cell_type": "markdown",
   "id": "1675374c-a38c-4418-8209-b8767f4b1fee",
   "metadata": {},
   "source": [
    "**Import Support Vector Classification (SVC)**"
   ]
  },
  {
   "cell_type": "code",
   "execution_count": 74,
   "id": "83d16818-17c4-4827-8594-14de75c78c49",
   "metadata": {},
   "outputs": [],
   "source": [
    "from sklearn.svm import SVC"
   ]
  },
  {
   "cell_type": "code",
   "execution_count": 75,
   "id": "ab4683a3-a6ba-4a72-903e-ce2666b6545f",
   "metadata": {},
   "outputs": [
    {
     "data": {
      "text/plain": [
       "{'C': 1, 'kernel': 'rbf'}"
      ]
     },
     "execution_count": 75,
     "metadata": {},
     "output_type": "execute_result"
    }
   ],
   "source": [
    "estimator = SVC()\n",
    "param_grid = {'kernel':['linear', 'poly', 'rbf', 'sigmoid'],\n",
    "             'C':[0.01,0.1,1]}\n",
    "svc_grid = GridSearchCV(estimator,param_grid,cv=5,scoring='accuracy')\n",
    "svc_grid.fit(x_train,y_train)\n",
    "svc_grid.best_params_"
   ]
  },
  {
   "cell_type": "markdown",
   "id": "b299a55a-79c2-48a9-afa4-2032e53eaf1e",
   "metadata": {},
   "source": [
    "- These are the **best parameters** for **SVC Model**"
   ]
  },
  {
   "cell_type": "code",
   "execution_count": 91,
   "id": "d88113ce-b3c4-42c3-84a0-a9991fd7053a",
   "metadata": {},
   "outputs": [
    {
     "name": "stdout",
     "output_type": "stream",
     "text": [
      "0.9663125\n",
      "[0.9666  0.9653  0.96745 0.9657  0.96565]\n",
      "0.96795\n"
     ]
    }
   ],
   "source": [
    "svc = SVC(kernel ='rbf',C =1 )\n",
    "svc.fit(x_train,y_train)\n",
    "print(svc.score(x_train,y_train))\n",
    "print(cross_val_score(svc,x_train,y_train,cv=5).mean())\n",
    "print(svc.score(x_test,y_test))"
   ]
  },
  {
   "cell_type": "markdown",
   "id": "98eba855-874a-43c7-ac25-b2a7221c10d0",
   "metadata": {},
   "source": [
    "- Here we can see the **Train accuracy** & **Cross validation score** and **Test accuracy**\n",
    "\n",
    "- By observing this it is a **Good model**"
   ]
  },
  {
   "cell_type": "markdown",
   "id": "0f981762-774c-4131-bead-c09e7bf8cd9a",
   "metadata": {},
   "source": [
    "# Decision Tree"
   ]
  },
  {
   "cell_type": "markdown",
   "id": "cad3d9e7-ebe6-4b12-87ec-a00d52fb31b5",
   "metadata": {},
   "source": [
    "**Import Decision Tree**"
   ]
  },
  {
   "cell_type": "code",
   "execution_count": 76,
   "id": "58310ae7-d62a-49f2-979f-5ecec0fa8469",
   "metadata": {},
   "outputs": [],
   "source": [
    "from sklearn.tree import DecisionTreeClassifier"
   ]
  },
  {
   "cell_type": "code",
   "execution_count": 77,
   "id": "4298115e-7888-4c9a-8664-9195830e1009",
   "metadata": {},
   "outputs": [
    {
     "data": {
      "text/plain": [
       "{'criterion': 'gini', 'max_depth': 5}"
      ]
     },
     "execution_count": 77,
     "metadata": {},
     "output_type": "execute_result"
    }
   ],
   "source": [
    "estimator = DecisionTreeClassifier(random_state=61)\n",
    "param_grid = {'criterion':['gini','entropy'],'max_depth':list(range(1,15))}\n",
    "dt_grid = GridSearchCV(estimator,param_grid,cv=5,scoring='accuracy')\n",
    "dt_grid.fit(x_train,y_train)\n",
    "dt_grid.best_params_"
   ]
  },
  {
   "cell_type": "markdown",
   "id": "ee53b8c0-3f6a-4b13-834c-4a1e1e5d052e",
   "metadata": {},
   "source": [
    "- These are the **best parameters** for **Decision Tree Model**"
   ]
  },
  {
   "cell_type": "code",
   "execution_count": 78,
   "id": "8b5b3840-1671-4e17-b975-1ca29922ea7c",
   "metadata": {},
   "outputs": [
    {
     "data": {
      "text/plain": [
       "array([5.51922122e-04, 2.29674050e-03, 0.00000000e+00, 4.62586652e-04,\n",
       "       1.52274264e-04, 0.00000000e+00, 0.00000000e+00, 0.00000000e+00,\n",
       "       0.00000000e+00, 9.36458953e-01, 3.56331405e-02, 0.00000000e+00,\n",
       "       0.00000000e+00, 0.00000000e+00, 0.00000000e+00, 2.44443828e-02])"
      ]
     },
     "execution_count": 78,
     "metadata": {},
     "output_type": "execute_result"
    }
   ],
   "source": [
    "dt_grid.best_estimator_.feature_importances_"
   ]
  },
  {
   "cell_type": "markdown",
   "id": "0fb80f76-5538-46cf-b790-92a225650542",
   "metadata": {},
   "source": [
    "**feature selection**\n",
    "\n",
    "- By using this we can idetify the **important features**"
   ]
  },
  {
   "cell_type": "code",
   "execution_count": 92,
   "id": "3d3cb2ee-e2ee-499a-abda-82ff0a0c619b",
   "metadata": {},
   "outputs": [
    {
     "data": {
      "text/plain": [
       "['billed_consumption',\n",
       " 'actual_consumption',\n",
       " 'peak_time_consumption',\n",
       " 'off_peak_consumption',\n",
       " 'consumption_diff',\n",
       " 'consumption_ratio',\n",
       " 'payment_history_poor']"
      ]
     },
     "execution_count": 92,
     "metadata": {},
     "output_type": "execute_result"
    }
   ],
   "source": [
    "feats = pd.DataFrame(data = dt_grid.best_estimator_.feature_importances_,\n",
    "                    index=x.columns,\n",
    "                    columns=['Features'])\n",
    "best_feature = feats[feats['Features']>0]\n",
    "final_feature = best_feature.index.to_list()\n",
    "final_feature"
   ]
  },
  {
   "cell_type": "markdown",
   "id": "b25d9cd2-f7a3-4352-94fa-0e78baa43d97",
   "metadata": {},
   "source": [
    "- We extract the **important features only**"
   ]
  },
  {
   "cell_type": "code",
   "execution_count": 93,
   "id": "0952435a-c015-46fe-b576-7df862646b4d",
   "metadata": {},
   "outputs": [],
   "source": [
    "x_dt = x[final_feature]\n",
    "x1_train,x1_test,y1_train,y1_test = train_test_split(x_dt,y,train_size=0.8,random_state=61)"
   ]
  },
  {
   "cell_type": "markdown",
   "id": "9ad21c7b-6936-448c-96ba-d12ac9e7649c",
   "metadata": {},
   "source": [
    "- Again we want to do **train-test-split by using important features**\n",
    "\n",
    "- We calculate and see the accuracy for this split"
   ]
  },
  {
   "cell_type": "code",
   "execution_count": 95,
   "id": "8907db59-a85f-45f8-909d-e42a9fde23a4",
   "metadata": {},
   "outputs": [
    {
     "name": "stdout",
     "output_type": "stream",
     "text": [
      "0.96805\n",
      "0.9674000000000001\n",
      "0.96925\n"
     ]
    }
   ],
   "source": [
    "dt = DecisionTreeClassifier(criterion='gini', max_depth=5, random_state=61)\n",
    "dt.fit(x1_train,y1_train)\n",
    "print(dt.score(x1_train,y1_train))\n",
    "print(cross_val_score(dt,x1_train,y1_train,cv=5).mean())\n",
    "print(dt.score(x1_test,y1_test))"
   ]
  },
  {
   "cell_type": "markdown",
   "id": "30dbc134-0b30-4fab-8d33-a7f96b858709",
   "metadata": {},
   "source": [
    "- Here we can see the **Train accuracy** & **Cross validation score** and **Test accuracy**\n",
    "\n",
    "- By observing this it is a **Good model**"
   ]
  },
  {
   "cell_type": "markdown",
   "id": "8bbd0cfa-ada3-46ff-8c4c-ffbb806059c7",
   "metadata": {},
   "source": [
    "# Random Forest"
   ]
  },
  {
   "cell_type": "markdown",
   "id": "0638badc-2bb5-4ec6-b9a9-4ade671f7330",
   "metadata": {},
   "source": [
    "**Import Random Forest**"
   ]
  },
  {
   "cell_type": "code",
   "execution_count": 79,
   "id": "7ffaeb04-8979-4466-83cf-a0cd958238c8",
   "metadata": {},
   "outputs": [],
   "source": [
    "from sklearn.ensemble import RandomForestClassifier"
   ]
  },
  {
   "cell_type": "code",
   "execution_count": 80,
   "id": "3dec4188-962a-4a6f-b859-7fffeb38ebd4",
   "metadata": {},
   "outputs": [
    {
     "data": {
      "text/plain": [
       "{'n_estimators': 16}"
      ]
     },
     "execution_count": 80,
     "metadata": {},
     "output_type": "execute_result"
    }
   ],
   "source": [
    "estimator = RandomForestClassifier(random_state=61)\n",
    "param_grid = {'n_estimators' : list(range(0,20))}\n",
    "rf_grid = GridSearchCV(estimator,param_grid,cv=5,scoring='accuracy')\n",
    "rf_grid.fit(x_train,y_train)\n",
    "rf_grid.best_params_"
   ]
  },
  {
   "cell_type": "markdown",
   "id": "eea19324-5f51-44f7-a17b-6d585f11d996",
   "metadata": {},
   "source": [
    "- It was the **best parameter** for **Random Forest Model**"
   ]
  },
  {
   "cell_type": "code",
   "execution_count": 81,
   "id": "31b12386-1fbf-491f-abc7-98e0e7c1476f",
   "metadata": {},
   "outputs": [
    {
     "data": {
      "text/plain": [
       "array([0.01259564, 0.06884723, 0.00841569, 0.02509196, 0.03201448,\n",
       "       0.0074523 , 0.00351313, 0.00196986, 0.00218857, 0.33127851,\n",
       "       0.41671208, 0.00802604, 0.00582985, 0.00222841, 0.00486701,\n",
       "       0.06896927])"
      ]
     },
     "execution_count": 81,
     "metadata": {},
     "output_type": "execute_result"
    }
   ],
   "source": [
    "rf_grid.best_estimator_.feature_importances_"
   ]
  },
  {
   "cell_type": "markdown",
   "id": "206e5c3a-9d4e-4959-884e-38cbebbab6f5",
   "metadata": {},
   "source": [
    "**feature selection**\n",
    "\n",
    "- By using this we can idetify the **important features**"
   ]
  },
  {
   "cell_type": "code",
   "execution_count": 96,
   "id": "2d33779f-ca82-4307-83dc-74b29db878f6",
   "metadata": {},
   "outputs": [
    {
     "data": {
      "text/plain": [
       "['billed_consumption',\n",
       " 'actual_consumption',\n",
       " 'average_voltage',\n",
       " 'peak_time_consumption',\n",
       " 'off_peak_consumption',\n",
       " 'power_factor',\n",
       " 'num_outages',\n",
       " 'customer_type',\n",
       " 'location',\n",
       " 'consumption_diff',\n",
       " 'consumption_ratio',\n",
       " 'peak_offpeak_ratio',\n",
       " 'peak_hour',\n",
       " 'time_of_day',\n",
       " 'month(2024)',\n",
       " 'payment_history_poor']"
      ]
     },
     "execution_count": 96,
     "metadata": {},
     "output_type": "execute_result"
    }
   ],
   "source": [
    "feats = pd.DataFrame(data = rf_grid.best_estimator_.feature_importances_,\n",
    "                    index=x.columns,\n",
    "                    columns=['Features'])\n",
    "best_feature = feats[feats['Features']>0]\n",
    "final_feature = best_feature.index.to_list()\n",
    "final_feature"
   ]
  },
  {
   "cell_type": "markdown",
   "id": "0c9c66b8-114b-4f6a-8f26-b35a8209a7a4",
   "metadata": {},
   "source": [
    "- We extract the **important features only**"
   ]
  },
  {
   "cell_type": "code",
   "execution_count": 97,
   "id": "e4f0fa50-d209-4017-a894-2605e03e1ecb",
   "metadata": {},
   "outputs": [],
   "source": [
    "x_rf = x[final_feature]\n",
    "x2_train,x2_test,y2_train,y2_test = train_test_split(x_rf,y,train_size=0.8,random_state=61)"
   ]
  },
  {
   "cell_type": "markdown",
   "id": "ba132325-1f9e-4c1d-87ef-f76c2ae5296f",
   "metadata": {},
   "source": [
    "- Again we want to do **train-test-split by using important features**\n",
    "\n",
    "- We calculate and see the accuracy for this split"
   ]
  },
  {
   "cell_type": "code",
   "execution_count": 98,
   "id": "9301fd58-a045-4934-ad10-74da51a8bfd0",
   "metadata": {},
   "outputs": [
    {
     "name": "stdout",
     "output_type": "stream",
     "text": [
      "0.999025\n",
      "0.9648749999999999\n",
      "0.96635\n"
     ]
    }
   ],
   "source": [
    "rf = RandomForestClassifier(n_estimators=16 ,random_state=61)\n",
    "rf.fit(x2_train,y2_train)\n",
    "print(rf.score(x2_train,y2_train))\n",
    "print(cross_val_score(rf,x2_train,y2_train,cv=5).mean())\n",
    "print(rf.score(x2_test,y2_test))"
   ]
  },
  {
   "cell_type": "markdown",
   "id": "de1c70ff-347c-4533-9121-a476fe8ea779",
   "metadata": {},
   "source": [
    "- Here we can see the **Train accuracy** & **Cross validation score** and **Test accuracy**\n",
    "\n",
    "- By observing this it is a **Good model**"
   ]
  },
  {
   "cell_type": "markdown",
   "id": "d7346b0e-c4ff-432d-a0c5-d32a283899cc",
   "metadata": {},
   "source": [
    "# Ada Boost"
   ]
  },
  {
   "cell_type": "markdown",
   "id": "4df795d7-5cec-4fc0-a978-44f028280ede",
   "metadata": {},
   "source": [
    "**Import Adaptive Boosting (ADA Boost)**"
   ]
  },
  {
   "cell_type": "code",
   "execution_count": 82,
   "id": "caba4dcb-391f-4afa-a344-9723ce575649",
   "metadata": {},
   "outputs": [],
   "source": [
    "from sklearn.ensemble import AdaBoostClassifier"
   ]
  },
  {
   "cell_type": "code",
   "execution_count": 83,
   "id": "c4c4135b-27b0-4805-8707-3a00b554ef7d",
   "metadata": {},
   "outputs": [
    {
     "data": {
      "text/plain": [
       "{'n_estimators': 8}"
      ]
     },
     "execution_count": 83,
     "metadata": {},
     "output_type": "execute_result"
    }
   ],
   "source": [
    "estimator = AdaBoostClassifier()\n",
    "param_grid = {'n_estimators' : list(range(1,15))}\n",
    "ada_grid = GridSearchCV(estimator,param_grid,cv=5,scoring='accuracy')\n",
    "ada_grid.fit(x_train,y_train)\n",
    "ada_grid.best_params_"
   ]
  },
  {
   "cell_type": "markdown",
   "id": "6b036c4b-4e91-4910-a912-e7b2e2aa71c8",
   "metadata": {},
   "source": [
    "- It was the **best parameter** for **ADA Boost Model**"
   ]
  },
  {
   "cell_type": "code",
   "execution_count": 84,
   "id": "9a647535-5a4a-4464-b446-ce98fcf75bd4",
   "metadata": {},
   "outputs": [
    {
     "data": {
      "text/plain": [
       "array([0.        , 0.        , 0.        , 0.        , 0.        ,\n",
       "       0.        , 0.        , 0.        , 0.        , 0.77472044,\n",
       "       0.10227075, 0.        , 0.        , 0.        , 0.        ,\n",
       "       0.12300881])"
      ]
     },
     "execution_count": 84,
     "metadata": {},
     "output_type": "execute_result"
    }
   ],
   "source": [
    "ada_grid.best_estimator_.feature_importances_"
   ]
  },
  {
   "cell_type": "markdown",
   "id": "6242a6b6-75fe-4bb5-bb78-2bdd5048cbc9",
   "metadata": {},
   "source": [
    "**feature selection**\n",
    "\n",
    "- By using this we can idetify the **important features**"
   ]
  },
  {
   "cell_type": "code",
   "execution_count": 99,
   "id": "0b8737fe-127b-4062-84d4-ea1a745451e1",
   "metadata": {},
   "outputs": [
    {
     "data": {
      "text/plain": [
       "['consumption_diff', 'consumption_ratio', 'payment_history_poor']"
      ]
     },
     "execution_count": 99,
     "metadata": {},
     "output_type": "execute_result"
    }
   ],
   "source": [
    "feats = pd.DataFrame(data = ada_grid.best_estimator_.feature_importances_,\n",
    "                    index=x.columns,\n",
    "                    columns=['Features'])\n",
    "best_feature = feats[feats['Features']>0]\n",
    "final_feature = best_feature.index.to_list()\n",
    "final_feature"
   ]
  },
  {
   "cell_type": "markdown",
   "id": "dcde6957-6400-47d3-af89-fbde873195ef",
   "metadata": {},
   "source": [
    "- We extract the **important features only**"
   ]
  },
  {
   "cell_type": "code",
   "execution_count": 100,
   "id": "ddda9e88-0d3e-4c19-bc57-415f0fd42031",
   "metadata": {},
   "outputs": [],
   "source": [
    "x_ada = x[final_feature]\n",
    "x3_train,x3_test,y3_train,y3_test = train_test_split(x_ada,y,train_size=0.8,random_state=61)"
   ]
  },
  {
   "cell_type": "markdown",
   "id": "63bd948e-14d6-4a5a-83e9-d3a135035336",
   "metadata": {},
   "source": [
    "- Again we want to do **train-test-split by using important features**\n",
    "\n",
    "- We calculate and see the accuracy for this split"
   ]
  },
  {
   "cell_type": "code",
   "execution_count": 101,
   "id": "5d62134b-b208-475a-8934-6be31b37bf2b",
   "metadata": {},
   "outputs": [
    {
     "name": "stdout",
     "output_type": "stream",
     "text": [
      "0.95685\n",
      "0.9565750000000002\n",
      "0.95855\n"
     ]
    }
   ],
   "source": [
    "ada = AdaBoostClassifier(n_estimators =8)\n",
    "ada.fit(x3_train,y3_train)\n",
    "print(ada.score(x3_train,y3_train))\n",
    "print(cross_val_score(ada,x3_train,y3_train,cv=5).mean())\n",
    "print(ada.score(x3_test,y3_test))"
   ]
  },
  {
   "cell_type": "markdown",
   "id": "36235e63-e878-48c4-b23d-a531c1b9fed2",
   "metadata": {},
   "source": [
    "- Here we can see the **Train accuracy** & **Cross validation score** and **Test accuracy**\n",
    "\n",
    "- By observing this it is a **Good model**"
   ]
  },
  {
   "cell_type": "markdown",
   "id": "da20e57b-bbe9-48e8-aed3-f66f813f5df8",
   "metadata": {},
   "source": [
    "# Gradient Boost"
   ]
  },
  {
   "cell_type": "markdown",
   "id": "e5d800fb-9868-4ad8-8af0-24bdbd2b5408",
   "metadata": {},
   "source": [
    "**Import Gradient Boost**"
   ]
  },
  {
   "cell_type": "code",
   "execution_count": 85,
   "id": "063e68a2-c909-4a6e-8b7c-fadd6c0c5ef8",
   "metadata": {},
   "outputs": [],
   "source": [
    "from sklearn.ensemble import GradientBoostingClassifier"
   ]
  },
  {
   "cell_type": "code",
   "execution_count": 86,
   "id": "bd012c87-8dfb-4a8f-b754-7f0cf6b3651d",
   "metadata": {},
   "outputs": [
    {
     "data": {
      "text/plain": [
       "{'learning_rate': 0.5, 'n_estimators': 3}"
      ]
     },
     "execution_count": 86,
     "metadata": {},
     "output_type": "execute_result"
    }
   ],
   "source": [
    "estimator = GradientBoostingClassifier()\n",
    "param_grid = {'n_estimators': list(range(1,15)),\n",
    "             'learning_rate': [0.1,0.2,0.3,0.4,0.5,0.6,0.7,0.8,0.9,1]}\n",
    "gb_grid = GridSearchCV(estimator,param_grid,cv=5,scoring='accuracy')\n",
    "gb_grid.fit(x_train,y_train)\n",
    "gb_grid.best_params_"
   ]
  },
  {
   "cell_type": "markdown",
   "id": "28193c23-24fd-4593-9b10-7ba94ed2a54f",
   "metadata": {},
   "source": [
    "- These are the **best parameters** for **Gradient Boost Model**"
   ]
  },
  {
   "cell_type": "code",
   "execution_count": 87,
   "id": "9b0cb6d8-7c33-45fc-a9f3-f829f9436e99",
   "metadata": {},
   "outputs": [
    {
     "data": {
      "text/plain": [
       "array([0.        , 0.00270039, 0.        , 0.        , 0.        ,\n",
       "       0.        , 0.        , 0.        , 0.        , 0.94698828,\n",
       "       0.02909385, 0.        , 0.        , 0.        , 0.        ,\n",
       "       0.02121748])"
      ]
     },
     "execution_count": 87,
     "metadata": {},
     "output_type": "execute_result"
    }
   ],
   "source": [
    "gb_grid.best_estimator_.feature_importances_"
   ]
  },
  {
   "cell_type": "markdown",
   "id": "9c228e94-4abf-4bb8-869a-e4184b2a0ec1",
   "metadata": {},
   "source": [
    "**feature selection**\n",
    "\n",
    "- By using this we can idetify the **important features**"
   ]
  },
  {
   "cell_type": "code",
   "execution_count": 102,
   "id": "12a3f6ef-bfa2-4bcc-9d29-a60f72274f79",
   "metadata": {},
   "outputs": [
    {
     "data": {
      "text/plain": [
       "['actual_consumption',\n",
       " 'consumption_diff',\n",
       " 'consumption_ratio',\n",
       " 'payment_history_poor']"
      ]
     },
     "execution_count": 102,
     "metadata": {},
     "output_type": "execute_result"
    }
   ],
   "source": [
    "feats = pd.DataFrame(data = gb_grid.best_estimator_.feature_importances_,\n",
    "                    index=x.columns,\n",
    "                    columns=['Features'])\n",
    "best_feature = feats[feats['Features']>0]\n",
    "final_feature = best_feature.index.to_list()\n",
    "final_feature"
   ]
  },
  {
   "cell_type": "markdown",
   "id": "fbe2e3e2-6601-4dbb-930c-3748f042fcfb",
   "metadata": {},
   "source": [
    "- We extract the **important features only**"
   ]
  },
  {
   "cell_type": "code",
   "execution_count": 103,
   "id": "cd146fcd-117d-4242-ab4c-7085f2054869",
   "metadata": {},
   "outputs": [],
   "source": [
    "x_gb = x[final_feature]\n",
    "x4_train,x4_test,y4_train,y4_test = train_test_split(x_gb,y,train_size=0.8,random_state=61)"
   ]
  },
  {
   "cell_type": "markdown",
   "id": "ae747d26-e3fc-4636-8406-f12323e50b9e",
   "metadata": {},
   "source": [
    "- Again we want to do **train-test-split by using important features**\n",
    "\n",
    "- We calculate and see the accuracy for this split"
   ]
  },
  {
   "cell_type": "code",
   "execution_count": 104,
   "id": "ebb68ec2-f2f8-4fc3-87db-fc6072f2a15d",
   "metadata": {},
   "outputs": [
    {
     "name": "stdout",
     "output_type": "stream",
     "text": [
      "0.967475\n",
      "0.9674875000000001\n",
      "0.9688\n"
     ]
    }
   ],
   "source": [
    "gb = GradientBoostingClassifier(learning_rate =0.5, n_estimators=3)\n",
    "gb.fit(x4_train,y4_train)\n",
    "print(gb.score(x4_train,y4_train))\n",
    "print(cross_val_score(gb,x4_train,y4_train,).mean())\n",
    "print(gb.score(x4_test,y4_test))"
   ]
  },
  {
   "cell_type": "markdown",
   "id": "8784ab15-1039-4250-b03c-171b60810830",
   "metadata": {},
   "source": [
    "- Here we can see the **Train accuracy** & **Cross validation score** and **Test accuracy**\n",
    "\n",
    "- By observing this it is a **Good model**"
   ]
  },
  {
   "cell_type": "markdown",
   "id": "e19d43d7-5d97-467c-ab2e-01c4ec4c1db8",
   "metadata": {},
   "source": [
    "# XG Boost"
   ]
  },
  {
   "cell_type": "markdown",
   "id": "6840e355-1ceb-44e0-aec2-e1766ff344a4",
   "metadata": {},
   "source": [
    "**Import Extreme Gradient Boosting (XG Boost)**"
   ]
  },
  {
   "cell_type": "code",
   "execution_count": 88,
   "id": "d6b4a93c-fb2d-4bdf-9c89-ca48cb836d30",
   "metadata": {},
   "outputs": [],
   "source": [
    "from xgboost import XGBClassifier"
   ]
  },
  {
   "cell_type": "code",
   "execution_count": 89,
   "id": "de8a1ab0-35c5-4c4d-991a-d4b226861ca8",
   "metadata": {},
   "outputs": [
    {
     "data": {
      "text/plain": [
       "{'gamma': 1, 'max_depth': 2, 'n_estimator': 5}"
      ]
     },
     "execution_count": 89,
     "metadata": {},
     "output_type": "execute_result"
    }
   ],
   "source": [
    "estimator_xgb = XGBClassifier()\n",
    "param_grid = {'n_estimator' : [5,10,15],'max_depth' : [1,2,3],'gamma' : [0,0.1,0.25,0.5,0.75,0.9,1]}\n",
    "xg_grid = GridSearchCV(estimator_xgb,param_grid,cv=5,scoring='accuracy')\n",
    "xg_grid.fit(x_train,y_train)\n",
    "xg_grid.best_params_"
   ]
  },
  {
   "cell_type": "markdown",
   "id": "f5e3740a-3000-4203-a595-25e2a3035e14",
   "metadata": {},
   "source": [
    "- These are the **best parameters** for **XG Boost Model**"
   ]
  },
  {
   "cell_type": "code",
   "execution_count": 90,
   "id": "ae6ce7a3-253d-4eef-8bd0-0044da97f27a",
   "metadata": {},
   "outputs": [
    {
     "data": {
      "text/plain": [
       "array([0.0017045 , 0.01742687, 0.00178996, 0.00130655, 0.00146155,\n",
       "       0.00144761, 0.00097913, 0.00097067, 0.        , 0.7695156 ,\n",
       "       0.07783341, 0.00134689, 0.00166402, 0.        , 0.00107998,\n",
       "       0.1214733 ], dtype=float32)"
      ]
     },
     "execution_count": 90,
     "metadata": {},
     "output_type": "execute_result"
    }
   ],
   "source": [
    "xg_grid.best_estimator_.feature_importances_"
   ]
  },
  {
   "cell_type": "markdown",
   "id": "ef746bdc-e7d7-4d2b-845a-ef81b39a8f43",
   "metadata": {},
   "source": [
    "**feature selection**\n",
    "\n",
    "- By using this we can idetify the **important features**"
   ]
  },
  {
   "cell_type": "code",
   "execution_count": 105,
   "id": "aecb6c7a-4398-4ff7-b129-0700b6947ba7",
   "metadata": {},
   "outputs": [
    {
     "data": {
      "text/plain": [
       "['billed_consumption',\n",
       " 'actual_consumption',\n",
       " 'average_voltage',\n",
       " 'peak_time_consumption',\n",
       " 'off_peak_consumption',\n",
       " 'power_factor',\n",
       " 'num_outages',\n",
       " 'customer_type',\n",
       " 'consumption_diff',\n",
       " 'consumption_ratio',\n",
       " 'peak_offpeak_ratio',\n",
       " 'peak_hour',\n",
       " 'month(2024)',\n",
       " 'payment_history_poor']"
      ]
     },
     "execution_count": 105,
     "metadata": {},
     "output_type": "execute_result"
    }
   ],
   "source": [
    "feats = pd.DataFrame(data = xg_grid.best_estimator_.feature_importances_,\n",
    "                    index=x.columns,\n",
    "                    columns=['Features'])\n",
    "best_feature = feats[feats['Features']>0]\n",
    "final_feature = best_feature.index.to_list()\n",
    "final_feature"
   ]
  },
  {
   "cell_type": "markdown",
   "id": "959096cf-ceba-41d6-be07-5c0dce6e4fb7",
   "metadata": {},
   "source": [
    "- We extract the **important features only**"
   ]
  },
  {
   "cell_type": "code",
   "execution_count": 106,
   "id": "21f6715a-3199-4287-9125-35e5d0ecf027",
   "metadata": {},
   "outputs": [],
   "source": [
    "x_xg = x[final_feature]\n",
    "x5_train,x5_test,y5_train,y5_test = train_test_split(x_xg,y,train_size=0.8,random_state=61)"
   ]
  },
  {
   "cell_type": "markdown",
   "id": "cc8c07f4-d0aa-4a56-888c-78b631aff1ef",
   "metadata": {},
   "source": [
    "- Again we want to do **train-test-split by using important features**\n",
    "\n",
    "- We calculate and see the accuracy for this split"
   ]
  },
  {
   "cell_type": "code",
   "execution_count": 107,
   "id": "cae1c144-9d5f-4533-b13a-c4a5b57baede",
   "metadata": {},
   "outputs": [
    {
     "name": "stdout",
     "output_type": "stream",
     "text": [
      "0.968525\n",
      "0.9670624999999999\n",
      "0.96905\n"
     ]
    }
   ],
   "source": [
    "xg = XGBClassifier(n_estimator=5, max_depth=2, gamma=1)\n",
    "xg.fit(x5_train,y5_train)\n",
    "print(xg.score(x5_train,y5_train))\n",
    "print(cross_val_score(xg,x5_train,y5_train,).mean())\n",
    "print(xg.score(x5_test,y5_test))"
   ]
  },
  {
   "cell_type": "markdown",
   "id": "7a47da0c-acff-4bd6-96cb-2b3a2f4fdaa1",
   "metadata": {},
   "source": [
    "- Here we can see the **Train accuracy** & **Cross validation score** and **Test accuracy**\n",
    "\n",
    "- By observing this it is a **Good model**"
   ]
  },
  {
   "cell_type": "markdown",
   "id": "c9d55187-a640-45c1-b68c-9aa9efa23905",
   "metadata": {},
   "source": [
    "# Model Selection"
   ]
  },
  {
   "cell_type": "markdown",
   "id": "12a872e5-6bdb-490f-969b-a2dcc1d06019",
   "metadata": {},
   "source": [
    "- All models are having above **90%**, but best models are **Decision Tree** and **XGBoost**\n",
    "\n",
    "- Both **Decision Tree** and **XGBoost** models were trained and evaluated on the Energy Theft Detection dataset. Interestingly, both models achieved **similar performance** across training, testing, and cross-validation scores."
   ]
  },
  {
   "cell_type": "markdown",
   "id": "c466b759-c8f8-416e-8fa0-213193c8989a",
   "metadata": {},
   "source": [
    "**Key Observation:**\n",
    "\n",
    "- **Decision Tree**\n",
    "\n",
    "  - Achieved the same accuracy with **fewer features.**\n",
    "\n",
    "- **XGBoost**\n",
    "\n",
    "  - Achieved the same accuracy, Utilized **more features.**"
   ]
  },
  {
   "cell_type": "markdown",
   "id": "a56f9245-7520-4ec3-848d-9b09418219e5",
   "metadata": {},
   "source": [
    "## Model Chosen: Decision Tree\n",
    "\n",
    "- Selected **Decision Tree** over XGBoost due to:\n",
    "\n",
    "    - - **Fewer features** required → simpler, interpretable model.\n",
    "\n",
    "    - **Decision tree having the better accuracy with less features.**\n",
    "\n",
    "    - **Faster to train and deploy.**\n",
    "\n",
    "## Advantages for this Problem\n",
    "\n",
    "- Captures **non-linear relationships** in consumption patterns.\n",
    "\n",
    "- Helps **identify critical features** contributing to energy theft."
   ]
  },
  {
   "cell_type": "code",
   "execution_count": null,
   "id": "fb54306f-1725-4762-bd5a-59e0e854b17a",
   "metadata": {},
   "outputs": [],
   "source": []
  },
  {
   "cell_type": "code",
   "execution_count": null,
   "id": "0321b0d1-f2f7-4217-96a6-304b6c72c89a",
   "metadata": {},
   "outputs": [],
   "source": []
  },
  {
   "cell_type": "code",
   "execution_count": null,
   "id": "b3555858-48b2-49d7-a832-23fafaf1004e",
   "metadata": {},
   "outputs": [],
   "source": []
  }
 ],
 "metadata": {
  "kernelspec": {
   "display_name": "Python 3 (ipykernel)",
   "language": "python",
   "name": "python3"
  },
  "language_info": {
   "codemirror_mode": {
    "name": "ipython",
    "version": 3
   },
   "file_extension": ".py",
   "mimetype": "text/x-python",
   "name": "python",
   "nbconvert_exporter": "python",
   "pygments_lexer": "ipython3",
   "version": "3.11.4"
  }
 },
 "nbformat": 4,
 "nbformat_minor": 5
}
